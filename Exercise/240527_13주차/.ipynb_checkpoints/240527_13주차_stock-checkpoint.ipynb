{
 "cells": [
  {
   "cell_type": "code",
   "execution_count": 20,
   "id": "07244e06-ce2f-47df-ab74-9ffb9d26f296",
   "metadata": {},
   "outputs": [],
   "source": [
    "import datetime\n",
    "import time\n",
    "import pandas as pd\n",
    "import numpy as np\n",
    "import matplotlib.pyplot as plt\n",
    "import tensorflow as tf"
   ]
  },
  {
   "cell_type": "code",
   "execution_count": 21,
   "id": "82878788-8906-4466-a177-cbf42837ed9c",
   "metadata": {},
   "outputs": [
    {
     "data": {
      "text/html": [
       "<div>\n",
       "<style scoped>\n",
       "    .dataframe tbody tr th:only-of-type {\n",
       "        vertical-align: middle;\n",
       "    }\n",
       "\n",
       "    .dataframe tbody tr th {\n",
       "        vertical-align: top;\n",
       "    }\n",
       "\n",
       "    .dataframe thead th {\n",
       "        text-align: right;\n",
       "    }\n",
       "</style>\n",
       "<table border=\"1\" class=\"dataframe\">\n",
       "  <thead>\n",
       "    <tr style=\"text-align: right;\">\n",
       "      <th></th>\n",
       "      <th>일자</th>\n",
       "      <th>종목코드</th>\n",
       "      <th>종목명</th>\n",
       "      <th>거래량</th>\n",
       "      <th>시가</th>\n",
       "      <th>고가</th>\n",
       "      <th>저가</th>\n",
       "      <th>종가</th>\n",
       "    </tr>\n",
       "  </thead>\n",
       "  <tbody>\n",
       "    <tr>\n",
       "      <th>0</th>\n",
       "      <td>20210601</td>\n",
       "      <td>A060310</td>\n",
       "      <td>3S</td>\n",
       "      <td>166690</td>\n",
       "      <td>2890</td>\n",
       "      <td>2970</td>\n",
       "      <td>2885</td>\n",
       "      <td>2920</td>\n",
       "    </tr>\n",
       "    <tr>\n",
       "      <th>1</th>\n",
       "      <td>20210601</td>\n",
       "      <td>A095570</td>\n",
       "      <td>AJ네트웍스</td>\n",
       "      <td>63836</td>\n",
       "      <td>5860</td>\n",
       "      <td>5940</td>\n",
       "      <td>5750</td>\n",
       "      <td>5780</td>\n",
       "    </tr>\n",
       "    <tr>\n",
       "      <th>2</th>\n",
       "      <td>20210601</td>\n",
       "      <td>A006840</td>\n",
       "      <td>AK홀딩스</td>\n",
       "      <td>103691</td>\n",
       "      <td>35500</td>\n",
       "      <td>35600</td>\n",
       "      <td>34150</td>\n",
       "      <td>34400</td>\n",
       "    </tr>\n",
       "    <tr>\n",
       "      <th>3</th>\n",
       "      <td>20210601</td>\n",
       "      <td>A054620</td>\n",
       "      <td>APS</td>\n",
       "      <td>462544</td>\n",
       "      <td>14600</td>\n",
       "      <td>14950</td>\n",
       "      <td>13800</td>\n",
       "      <td>14950</td>\n",
       "    </tr>\n",
       "    <tr>\n",
       "      <th>4</th>\n",
       "      <td>20210601</td>\n",
       "      <td>A265520</td>\n",
       "      <td>AP시스템</td>\n",
       "      <td>131987</td>\n",
       "      <td>29150</td>\n",
       "      <td>29150</td>\n",
       "      <td>28800</td>\n",
       "      <td>29050</td>\n",
       "    </tr>\n",
       "    <tr>\n",
       "      <th>...</th>\n",
       "      <td>...</td>\n",
       "      <td>...</td>\n",
       "      <td>...</td>\n",
       "      <td>...</td>\n",
       "      <td>...</td>\n",
       "      <td>...</td>\n",
       "      <td>...</td>\n",
       "      <td>...</td>\n",
       "    </tr>\n",
       "    <tr>\n",
       "      <th>987995</th>\n",
       "      <td>20230530</td>\n",
       "      <td>A189980</td>\n",
       "      <td>흥국에프엔비</td>\n",
       "      <td>272284</td>\n",
       "      <td>3005</td>\n",
       "      <td>3035</td>\n",
       "      <td>2955</td>\n",
       "      <td>2980</td>\n",
       "    </tr>\n",
       "    <tr>\n",
       "      <th>987996</th>\n",
       "      <td>20230530</td>\n",
       "      <td>A000540</td>\n",
       "      <td>흥국화재</td>\n",
       "      <td>50218</td>\n",
       "      <td>3250</td>\n",
       "      <td>3255</td>\n",
       "      <td>3195</td>\n",
       "      <td>3215</td>\n",
       "    </tr>\n",
       "    <tr>\n",
       "      <th>987997</th>\n",
       "      <td>20230530</td>\n",
       "      <td>A003280</td>\n",
       "      <td>흥아해운</td>\n",
       "      <td>130664</td>\n",
       "      <td>1344</td>\n",
       "      <td>1395</td>\n",
       "      <td>1340</td>\n",
       "      <td>1370</td>\n",
       "    </tr>\n",
       "    <tr>\n",
       "      <th>987998</th>\n",
       "      <td>20230530</td>\n",
       "      <td>A037440</td>\n",
       "      <td>희림</td>\n",
       "      <td>141932</td>\n",
       "      <td>9170</td>\n",
       "      <td>9260</td>\n",
       "      <td>9170</td>\n",
       "      <td>9200</td>\n",
       "    </tr>\n",
       "    <tr>\n",
       "      <th>987999</th>\n",
       "      <td>20230530</td>\n",
       "      <td>A238490</td>\n",
       "      <td>힘스</td>\n",
       "      <td>2611843</td>\n",
       "      <td>6410</td>\n",
       "      <td>8220</td>\n",
       "      <td>6300</td>\n",
       "      <td>8220</td>\n",
       "    </tr>\n",
       "  </tbody>\n",
       "</table>\n",
       "<p>988000 rows × 8 columns</p>\n",
       "</div>"
      ],
      "text/plain": [
       "              일자     종목코드     종목명      거래량     시가     고가     저가     종가\n",
       "0       20210601  A060310      3S   166690   2890   2970   2885   2920\n",
       "1       20210601  A095570  AJ네트웍스    63836   5860   5940   5750   5780\n",
       "2       20210601  A006840   AK홀딩스   103691  35500  35600  34150  34400\n",
       "3       20210601  A054620     APS   462544  14600  14950  13800  14950\n",
       "4       20210601  A265520   AP시스템   131987  29150  29150  28800  29050\n",
       "...          ...      ...     ...      ...    ...    ...    ...    ...\n",
       "987995  20230530  A189980  흥국에프엔비   272284   3005   3035   2955   2980\n",
       "987996  20230530  A000540    흥국화재    50218   3250   3255   3195   3215\n",
       "987997  20230530  A003280    흥아해운   130664   1344   1395   1340   1370\n",
       "987998  20230530  A037440      희림   141932   9170   9260   9170   9200\n",
       "987999  20230530  A238490      힘스  2611843   6410   8220   6300   8220\n",
       "\n",
       "[988000 rows x 8 columns]"
      ]
     },
     "execution_count": 21,
     "metadata": {},
     "output_type": "execute_result"
    }
   ],
   "source": [
    "stock = pd.read_csv(\"./stock.csv\")\n",
    "stock"
   ]
  },
  {
   "cell_type": "code",
   "execution_count": 22,
   "id": "b69a2bb6-daa4-4ef3-b86e-5bb12a749ff0",
   "metadata": {},
   "outputs": [],
   "source": [
    "stock.columns = ['Date', 'Code', 'Name', 'Volume', 'Open', 'High', 'Low', 'Close']"
   ]
  },
  {
   "cell_type": "code",
   "execution_count": 23,
   "id": "2404a372-1f15-45fa-bfa9-0ae85a49ce0a",
   "metadata": {},
   "outputs": [
    {
     "data": {
      "text/plain": [
       "Name\n",
       "3S         494\n",
       "유화증권       494\n",
       "이녹스        494\n",
       "이노테라피      494\n",
       "이노와이어리스    494\n",
       "          ... \n",
       "바이브컴퍼니     494\n",
       "바이넥스       494\n",
       "바른손이앤에이    494\n",
       "바른손        494\n",
       "힘스         494\n",
       "Name: count, Length: 2000, dtype: int64"
      ]
     },
     "execution_count": 23,
     "metadata": {},
     "output_type": "execute_result"
    }
   ],
   "source": [
    "stock['Name'].value_counts()"
   ]
  },
  {
   "cell_type": "code",
   "execution_count": 24,
   "id": "295f39e8-1b18-4812-9356-c66af1348161",
   "metadata": {},
   "outputs": [],
   "source": [
    "stock_AJ = stock[stock['Code']=='A265520']"
   ]
  },
  {
   "cell_type": "code",
   "execution_count": 25,
   "id": "db0eca51-188c-45ed-9bda-aec2b023bea1",
   "metadata": {},
   "outputs": [],
   "source": [
    "stock_AJ = stock_AJ [['Date', 'Open', 'High', 'Low', 'Close', 'Volume']]"
   ]
  },
  {
   "cell_type": "code",
   "execution_count": 26,
   "id": "5140cbbc-92d6-4f67-830f-aade55f09399",
   "metadata": {},
   "outputs": [
    {
     "data": {
      "text/html": [
       "<div>\n",
       "<style scoped>\n",
       "    .dataframe tbody tr th:only-of-type {\n",
       "        vertical-align: middle;\n",
       "    }\n",
       "\n",
       "    .dataframe tbody tr th {\n",
       "        vertical-align: top;\n",
       "    }\n",
       "\n",
       "    .dataframe thead th {\n",
       "        text-align: right;\n",
       "    }\n",
       "</style>\n",
       "<table border=\"1\" class=\"dataframe\">\n",
       "  <thead>\n",
       "    <tr style=\"text-align: right;\">\n",
       "      <th></th>\n",
       "      <th>Date</th>\n",
       "      <th>Open</th>\n",
       "      <th>High</th>\n",
       "      <th>Low</th>\n",
       "      <th>Close</th>\n",
       "      <th>Volume</th>\n",
       "    </tr>\n",
       "  </thead>\n",
       "  <tbody>\n",
       "    <tr>\n",
       "      <th>4</th>\n",
       "      <td>20210601</td>\n",
       "      <td>29150</td>\n",
       "      <td>29150</td>\n",
       "      <td>28800</td>\n",
       "      <td>29050</td>\n",
       "      <td>131987</td>\n",
       "    </tr>\n",
       "    <tr>\n",
       "      <th>2004</th>\n",
       "      <td>20210602</td>\n",
       "      <td>29150</td>\n",
       "      <td>29400</td>\n",
       "      <td>29050</td>\n",
       "      <td>29150</td>\n",
       "      <td>112102</td>\n",
       "    </tr>\n",
       "    <tr>\n",
       "      <th>4004</th>\n",
       "      <td>20210603</td>\n",
       "      <td>29300</td>\n",
       "      <td>29650</td>\n",
       "      <td>29100</td>\n",
       "      <td>29350</td>\n",
       "      <td>176959</td>\n",
       "    </tr>\n",
       "    <tr>\n",
       "      <th>6004</th>\n",
       "      <td>20210604</td>\n",
       "      <td>29150</td>\n",
       "      <td>29350</td>\n",
       "      <td>28850</td>\n",
       "      <td>29100</td>\n",
       "      <td>106359</td>\n",
       "    </tr>\n",
       "    <tr>\n",
       "      <th>8004</th>\n",
       "      <td>20210607</td>\n",
       "      <td>29400</td>\n",
       "      <td>29450</td>\n",
       "      <td>28900</td>\n",
       "      <td>29050</td>\n",
       "      <td>114616</td>\n",
       "    </tr>\n",
       "    <tr>\n",
       "      <th>...</th>\n",
       "      <td>...</td>\n",
       "      <td>...</td>\n",
       "      <td>...</td>\n",
       "      <td>...</td>\n",
       "      <td>...</td>\n",
       "      <td>...</td>\n",
       "    </tr>\n",
       "    <tr>\n",
       "      <th>978004</th>\n",
       "      <td>20230523</td>\n",
       "      <td>21100</td>\n",
       "      <td>21300</td>\n",
       "      <td>20850</td>\n",
       "      <td>21100</td>\n",
       "      <td>75283</td>\n",
       "    </tr>\n",
       "    <tr>\n",
       "      <th>980004</th>\n",
       "      <td>20230524</td>\n",
       "      <td>20900</td>\n",
       "      <td>21300</td>\n",
       "      <td>20750</td>\n",
       "      <td>21200</td>\n",
       "      <td>45067</td>\n",
       "    </tr>\n",
       "    <tr>\n",
       "      <th>982004</th>\n",
       "      <td>20230525</td>\n",
       "      <td>21350</td>\n",
       "      <td>21450</td>\n",
       "      <td>21100</td>\n",
       "      <td>21150</td>\n",
       "      <td>79057</td>\n",
       "    </tr>\n",
       "    <tr>\n",
       "      <th>984004</th>\n",
       "      <td>20230526</td>\n",
       "      <td>21300</td>\n",
       "      <td>21350</td>\n",
       "      <td>20950</td>\n",
       "      <td>21000</td>\n",
       "      <td>84863</td>\n",
       "    </tr>\n",
       "    <tr>\n",
       "      <th>986004</th>\n",
       "      <td>20230530</td>\n",
       "      <td>21150</td>\n",
       "      <td>21600</td>\n",
       "      <td>21150</td>\n",
       "      <td>21350</td>\n",
       "      <td>91319</td>\n",
       "    </tr>\n",
       "  </tbody>\n",
       "</table>\n",
       "<p>494 rows × 6 columns</p>\n",
       "</div>"
      ],
      "text/plain": [
       "            Date   Open   High    Low  Close  Volume\n",
       "4       20210601  29150  29150  28800  29050  131987\n",
       "2004    20210602  29150  29400  29050  29150  112102\n",
       "4004    20210603  29300  29650  29100  29350  176959\n",
       "6004    20210604  29150  29350  28850  29100  106359\n",
       "8004    20210607  29400  29450  28900  29050  114616\n",
       "...          ...    ...    ...    ...    ...     ...\n",
       "978004  20230523  21100  21300  20850  21100   75283\n",
       "980004  20230524  20900  21300  20750  21200   45067\n",
       "982004  20230525  21350  21450  21100  21150   79057\n",
       "984004  20230526  21300  21350  20950  21000   84863\n",
       "986004  20230530  21150  21600  21150  21350   91319\n",
       "\n",
       "[494 rows x 6 columns]"
      ]
     },
     "execution_count": 26,
     "metadata": {},
     "output_type": "execute_result"
    }
   ],
   "source": [
    "stock_AJ"
   ]
  },
  {
   "cell_type": "code",
   "execution_count": 27,
   "id": "d0fe0728-b6a9-4543-ae14-b1f2b5dfe65e",
   "metadata": {},
   "outputs": [
    {
     "data": {
      "text/plain": [
       "Date\n",
       "20210601    1\n",
       "20221017    1\n",
       "20221013    1\n",
       "20221012    1\n",
       "20221011    1\n",
       "           ..\n",
       "20220120    1\n",
       "20220119    1\n",
       "20220118    1\n",
       "20220117    1\n",
       "20230530    1\n",
       "Name: count, Length: 494, dtype: int64"
      ]
     },
     "execution_count": 27,
     "metadata": {},
     "output_type": "execute_result"
    }
   ],
   "source": [
    "stock_AJ['Date'].value_counts()"
   ]
  },
  {
   "cell_type": "code",
   "execution_count": 28,
   "id": "2a503f63-cb56-4ac9-991c-d2e76477a24a",
   "metadata": {},
   "outputs": [],
   "source": [
    "def MinMaxScaler(data):\n",
    "    \"\"\"최솟값과 최댓값을 이용하여 0 ~ 1 값으로 변환\"\"\"\n",
    "    numerator = data - np.min(data, 0) # numerator = 분자\n",
    "    denominator = np.max(data, 0) - np.min(data, 0) # denominator = 분모\n",
    "    # 0으로 나누기 에러가 발생하지 않도록 매우 작은 값(1e-7)을 더해서 나눔\n",
    "    return numerator / (denominator + 1e-7)"
   ]
  },
  {
   "cell_type": "code",
   "execution_count": 29,
   "id": "66fffa35-b271-476f-8211-c196a69a76bc",
   "metadata": {},
   "outputs": [
    {
     "data": {
      "text/html": [
       "<div>\n",
       "<style scoped>\n",
       "    .dataframe tbody tr th:only-of-type {\n",
       "        vertical-align: middle;\n",
       "    }\n",
       "\n",
       "    .dataframe tbody tr th {\n",
       "        vertical-align: top;\n",
       "    }\n",
       "\n",
       "    .dataframe thead th {\n",
       "        text-align: right;\n",
       "    }\n",
       "</style>\n",
       "<table border=\"1\" class=\"dataframe\">\n",
       "  <thead>\n",
       "    <tr style=\"text-align: right;\">\n",
       "      <th></th>\n",
       "      <th>Open</th>\n",
       "      <th>High</th>\n",
       "      <th>Low</th>\n",
       "      <th>Volume</th>\n",
       "    </tr>\n",
       "  </thead>\n",
       "  <tbody>\n",
       "    <tr>\n",
       "      <th>4</th>\n",
       "      <td>0.733146</td>\n",
       "      <td>0.717877</td>\n",
       "      <td>0.744318</td>\n",
       "      <td>0.055660</td>\n",
       "    </tr>\n",
       "    <tr>\n",
       "      <th>2004</th>\n",
       "      <td>0.733146</td>\n",
       "      <td>0.731844</td>\n",
       "      <td>0.758523</td>\n",
       "      <td>0.046006</td>\n",
       "    </tr>\n",
       "    <tr>\n",
       "      <th>4004</th>\n",
       "      <td>0.741573</td>\n",
       "      <td>0.745810</td>\n",
       "      <td>0.761364</td>\n",
       "      <td>0.077491</td>\n",
       "    </tr>\n",
       "    <tr>\n",
       "      <th>6004</th>\n",
       "      <td>0.733146</td>\n",
       "      <td>0.729050</td>\n",
       "      <td>0.747159</td>\n",
       "      <td>0.043219</td>\n",
       "    </tr>\n",
       "    <tr>\n",
       "      <th>8004</th>\n",
       "      <td>0.747191</td>\n",
       "      <td>0.734637</td>\n",
       "      <td>0.750000</td>\n",
       "      <td>0.047227</td>\n",
       "    </tr>\n",
       "    <tr>\n",
       "      <th>...</th>\n",
       "      <td>...</td>\n",
       "      <td>...</td>\n",
       "      <td>...</td>\n",
       "      <td>...</td>\n",
       "    </tr>\n",
       "    <tr>\n",
       "      <th>978004</th>\n",
       "      <td>0.280899</td>\n",
       "      <td>0.279330</td>\n",
       "      <td>0.292614</td>\n",
       "      <td>0.028133</td>\n",
       "    </tr>\n",
       "    <tr>\n",
       "      <th>980004</th>\n",
       "      <td>0.269663</td>\n",
       "      <td>0.279330</td>\n",
       "      <td>0.286932</td>\n",
       "      <td>0.013464</td>\n",
       "    </tr>\n",
       "    <tr>\n",
       "      <th>982004</th>\n",
       "      <td>0.294944</td>\n",
       "      <td>0.287709</td>\n",
       "      <td>0.306818</td>\n",
       "      <td>0.029965</td>\n",
       "    </tr>\n",
       "    <tr>\n",
       "      <th>984004</th>\n",
       "      <td>0.292135</td>\n",
       "      <td>0.282123</td>\n",
       "      <td>0.298295</td>\n",
       "      <td>0.032783</td>\n",
       "    </tr>\n",
       "    <tr>\n",
       "      <th>986004</th>\n",
       "      <td>0.283708</td>\n",
       "      <td>0.296089</td>\n",
       "      <td>0.309659</td>\n",
       "      <td>0.035917</td>\n",
       "    </tr>\n",
       "  </tbody>\n",
       "</table>\n",
       "<p>494 rows × 4 columns</p>\n",
       "</div>"
      ],
      "text/plain": [
       "            Open      High       Low    Volume\n",
       "4       0.733146  0.717877  0.744318  0.055660\n",
       "2004    0.733146  0.731844  0.758523  0.046006\n",
       "4004    0.741573  0.745810  0.761364  0.077491\n",
       "6004    0.733146  0.729050  0.747159  0.043219\n",
       "8004    0.747191  0.734637  0.750000  0.047227\n",
       "...          ...       ...       ...       ...\n",
       "978004  0.280899  0.279330  0.292614  0.028133\n",
       "980004  0.269663  0.279330  0.286932  0.013464\n",
       "982004  0.294944  0.287709  0.306818  0.029965\n",
       "984004  0.292135  0.282123  0.298295  0.032783\n",
       "986004  0.283708  0.296089  0.309659  0.035917\n",
       "\n",
       "[494 rows x 4 columns]"
      ]
     },
     "execution_count": 29,
     "metadata": {},
     "output_type": "execute_result"
    }
   ],
   "source": [
    "dfx = stock_AJ[['Open','High','Low','Volume', 'Close']]\n",
    "dfx = MinMaxScaler(dfx)\n",
    "\n",
    "dfy = dfx[['Close']]\n",
    "dfx = dfx[['Open','High','Low','Volume']]\n",
    "dfx"
   ]
  },
  {
   "cell_type": "code",
   "execution_count": 30,
   "id": "d18ccf2a-f3ad-4a66-8117-b960f9bc91e6",
   "metadata": {},
   "outputs": [
    {
     "data": {
      "text/html": [
       "<div>\n",
       "<style scoped>\n",
       "    .dataframe tbody tr th:only-of-type {\n",
       "        vertical-align: middle;\n",
       "    }\n",
       "\n",
       "    .dataframe tbody tr th {\n",
       "        vertical-align: top;\n",
       "    }\n",
       "\n",
       "    .dataframe thead th {\n",
       "        text-align: right;\n",
       "    }\n",
       "</style>\n",
       "<table border=\"1\" class=\"dataframe\">\n",
       "  <thead>\n",
       "    <tr style=\"text-align: right;\">\n",
       "      <th></th>\n",
       "      <th>Open</th>\n",
       "      <th>High</th>\n",
       "      <th>Low</th>\n",
       "      <th>Volume</th>\n",
       "    </tr>\n",
       "  </thead>\n",
       "  <tbody>\n",
       "    <tr>\n",
       "      <th>count</th>\n",
       "      <td>494.000000</td>\n",
       "      <td>494.000000</td>\n",
       "      <td>494.000000</td>\n",
       "      <td>494.000000</td>\n",
       "    </tr>\n",
       "    <tr>\n",
       "      <th>mean</th>\n",
       "      <td>0.346347</td>\n",
       "      <td>0.349501</td>\n",
       "      <td>0.353569</td>\n",
       "      <td>0.051672</td>\n",
       "    </tr>\n",
       "    <tr>\n",
       "      <th>std</th>\n",
       "      <td>0.228454</td>\n",
       "      <td>0.229086</td>\n",
       "      <td>0.227856</td>\n",
       "      <td>0.065955</td>\n",
       "    </tr>\n",
       "    <tr>\n",
       "      <th>min</th>\n",
       "      <td>0.000000</td>\n",
       "      <td>0.000000</td>\n",
       "      <td>0.000000</td>\n",
       "      <td>0.000000</td>\n",
       "    </tr>\n",
       "    <tr>\n",
       "      <th>25%</th>\n",
       "      <td>0.160112</td>\n",
       "      <td>0.159218</td>\n",
       "      <td>0.168324</td>\n",
       "      <td>0.022754</td>\n",
       "    </tr>\n",
       "    <tr>\n",
       "      <th>50%</th>\n",
       "      <td>0.327247</td>\n",
       "      <td>0.332402</td>\n",
       "      <td>0.332386</td>\n",
       "      <td>0.036928</td>\n",
       "    </tr>\n",
       "    <tr>\n",
       "      <th>75%</th>\n",
       "      <td>0.455056</td>\n",
       "      <td>0.452514</td>\n",
       "      <td>0.460227</td>\n",
       "      <td>0.061371</td>\n",
       "    </tr>\n",
       "    <tr>\n",
       "      <th>max</th>\n",
       "      <td>1.000000</td>\n",
       "      <td>1.000000</td>\n",
       "      <td>1.000000</td>\n",
       "      <td>1.000000</td>\n",
       "    </tr>\n",
       "  </tbody>\n",
       "</table>\n",
       "</div>"
      ],
      "text/plain": [
       "             Open        High         Low      Volume\n",
       "count  494.000000  494.000000  494.000000  494.000000\n",
       "mean     0.346347    0.349501    0.353569    0.051672\n",
       "std      0.228454    0.229086    0.227856    0.065955\n",
       "min      0.000000    0.000000    0.000000    0.000000\n",
       "25%      0.160112    0.159218    0.168324    0.022754\n",
       "50%      0.327247    0.332402    0.332386    0.036928\n",
       "75%      0.455056    0.452514    0.460227    0.061371\n",
       "max      1.000000    1.000000    1.000000    1.000000"
      ]
     },
     "execution_count": 30,
     "metadata": {},
     "output_type": "execute_result"
    }
   ],
   "source": [
    "# dfx 요약\n",
    "dfx.describe()"
   ]
  },
  {
   "cell_type": "code",
   "execution_count": 31,
   "id": "7b288436-f1f8-4046-9937-61fb322aaabc",
   "metadata": {},
   "outputs": [],
   "source": [
    "# 두 데이터를 리스트 형태로 저장\n",
    "X = dfx.values.tolist()\n",
    "\n",
    "# 종가가 레이블이 된다.\n",
    "y = dfy.values.tolist()"
   ]
  },
  {
   "cell_type": "markdown",
   "id": "4807dcf9-814c-4472-ac34-1b3498a03877",
   "metadata": {},
   "source": [
    "### Sequence Split"
   ]
  },
  {
   "cell_type": "code",
   "execution_count": 32,
   "id": "d8e9a05b-b76c-4a45-b3a8-58ef74309d44",
   "metadata": {},
   "outputs": [
    {
     "name": "stdout",
     "output_type": "stream",
     "text": [
      "[[0.1758426966282256, 0.16592178770857027, 0.17954545454443438, 0.023678718571460016], [0.17191011235858478, 0.19162011173077306, 0.1965909090897921, 0.02711083904422838], [0.2033707865157114, 0.23184357541769918, 0.224431818180543, 0.05147112722583928], [0.25280898876262464, 0.2402234636858088, 0.24431818181679363, 0.04436124936952169], [0.23595505617844967, 0.25139664804328826, 0.2613636363621513, 0.06627924644809191], [0.26123595505471214, 0.27374301675824725, 0.2755681818166161, 0.04884922019989559], [0.2808988764029163, 0.279329608936987, 0.2926136363619738, 0.028132708011014432], [0.26966292134679964, 0.279329608936987, 0.28693181818018787, 0.013464397939561987], [0.2949438202230621, 0.2877094972050966, 0.3068181818164385, 0.029964790424625153], [0.29213483145903296, 0.28212290502635684, 0.29829545454375966, 0.0327833040688816]] -> [0.2994505494489041]\n"
     ]
    }
   ],
   "source": [
    "window_size = 10\n",
    "\n",
    "data_X = []\n",
    "data_y = []\n",
    "for i in range(len(y) - window_size): # window_size 값을 빼줘야 window_size를 더해서 끝까지 포함할 수 있다.\n",
    "    _X = X[i : i + window_size] # 다음 날 종가(i+windows_size)는 포함되지 않음\n",
    "    _y = y[i + window_size]     # 다음 날 종가\n",
    "    data_X.append(_X)\n",
    "    data_y.append(_y)\n",
    "print(_X, \"->\", _y)"
   ]
  },
  {
   "cell_type": "code",
   "execution_count": 33,
   "id": "cdcb0fca-a34b-4a4a-8fa1-3579d75ed851",
   "metadata": {},
   "outputs": [
    {
     "name": "stdout",
     "output_type": "stream",
     "text": [
      "전체 데이터의 크기 : 484 484\n"
     ]
    }
   ],
   "source": [
    "print('전체 데이터의 크기 :', len(data_X), len(data_y))"
   ]
  },
  {
   "cell_type": "code",
   "execution_count": 34,
   "id": "23bd23dc-1741-4b21-8480-0eceea2057a2",
   "metadata": {},
   "outputs": [
    {
     "name": "stdout",
     "output_type": "stream",
     "text": [
      "훈련 데이터의 크기 : (338, 10, 4) (338, 1)\n",
      "테스트 데이터의 크기 : (146, 10, 4) (146, 1)\n"
     ]
    }
   ],
   "source": [
    "train_size = int(len(data_y) * 0.7)\n",
    "train_X = np.array(data_X[0 : train_size])\n",
    "train_y = np.array(data_y[0 : train_size])\n",
    "\n",
    "test_size = len(data_y) - train_size\n",
    "test_X = np.array(data_X[train_size : len(data_X)])\n",
    "test_y = np.array(data_y[train_size : len(data_y)])\n",
    "\n",
    "print('훈련 데이터의 크기 :', train_X.shape, train_y.shape)\n",
    "print('테스트 데이터의 크기 :', test_X.shape, test_y.shape)"
   ]
  },
  {
   "cell_type": "code",
   "execution_count": 35,
   "id": "0d356e08-e982-464f-aef2-c1780e730f78",
   "metadata": {},
   "outputs": [
    {
     "data": {
      "text/plain": [
       "(10, 4)"
      ]
     },
     "execution_count": 35,
     "metadata": {},
     "output_type": "execute_result"
    }
   ],
   "source": [
    "train_X.shape[1:]"
   ]
  },
  {
   "cell_type": "code",
   "execution_count": 36,
   "id": "6be5e4c1-87a0-4342-a496-a6d7d66175ad",
   "metadata": {},
   "outputs": [],
   "source": [
    "from tensorflow.keras import Sequential\n",
    "from tensorflow.keras.layers import Dense, LSTM, Dropout, RNN, SimpleRNN"
   ]
  },
  {
   "cell_type": "code",
   "execution_count": 66,
   "id": "b0edc094-9b3f-42f8-ad44-cbb2ed6276ec",
   "metadata": {},
   "outputs": [
    {
     "name": "stdout",
     "output_type": "stream",
     "text": [
      "Model: \"sequential_5\"\n",
      "_________________________________________________________________\n",
      " Layer (type)                Output Shape              Param #   \n",
      "=================================================================\n",
      " simple_rnn_4 (SimpleRNN)    (None, 10, 20)            500       \n",
      "                                                                 \n",
      " dropout_10 (Dropout)        (None, 10, 20)            0         \n",
      "                                                                 \n",
      " simple_rnn_5 (SimpleRNN)    (None, 20)                820       \n",
      "                                                                 \n",
      " dropout_11 (Dropout)        (None, 20)                0         \n",
      "                                                                 \n",
      " dense_5 (Dense)             (None, 1)                 21        \n",
      "                                                                 \n",
      "=================================================================\n",
      "Total params: 1341 (5.24 KB)\n",
      "Trainable params: 1341 (5.24 KB)\n",
      "Non-trainable params: 0 (0.00 Byte)\n",
      "_________________________________________________________________\n"
     ]
    }
   ],
   "source": [
    "# RNN 모델 초기화\n",
    "model = Sequential()\n",
    "\n",
    "# 첫 번째 RNN 레이어와 Dropout 레이어 추가\n",
    "model.add(SimpleRNN(20, activation='relu', input_shape=(train_X.shape[1:]), return_sequences=True))\n",
    "model.add(Dropout(0.5))\n",
    "\n",
    "# 두 번째 RNN 레이어와 Dropout 레이어 추가\n",
    "model.add(SimpleRNN(20, activation='relu'))\n",
    "model.add(Dropout(0.3))\n",
    "\n",
    "# 최종 출력을 위한 Dense 레이어 추가\n",
    "model.add(Dense(1))\n",
    "\n",
    "# 모델 요약 출력\n",
    "model.summary()"
   ]
  },
  {
   "cell_type": "code",
   "execution_count": 72,
   "id": "be62b732-f31a-471f-a1eb-c8e90586d546",
   "metadata": {},
   "outputs": [
    {
     "name": "stdout",
     "output_type": "stream",
     "text": [
      "Model: \"sequential_6\"\n",
      "_________________________________________________________________\n",
      " Layer (type)                Output Shape              Param #   \n",
      "=================================================================\n",
      " lstm_6 (LSTM)               (None, 10, 20)            2000      \n",
      "                                                                 \n",
      " dropout_12 (Dropout)        (None, 10, 20)            0         \n",
      "                                                                 \n",
      " lstm_7 (LSTM)               (None, 20)                3280      \n",
      "                                                                 \n",
      " dropout_13 (Dropout)        (None, 20)                0         \n",
      "                                                                 \n",
      " dense_6 (Dense)             (None, 1)                 21        \n",
      "                                                                 \n",
      "=================================================================\n",
      "Total params: 5301 (20.71 KB)\n",
      "Trainable params: 5301 (20.71 KB)\n",
      "Non-trainable params: 0 (0.00 Byte)\n",
      "_________________________________________________________________\n"
     ]
    }
   ],
   "source": [
    "# LSTM 모델 초기화\n",
    "model = Sequential()\n",
    "\n",
    "# 첫 번째 LSTM 레이어와 Dropout 레이어 추가\n",
    "model.add(LSTM(units=20, activation='relu', return_sequences=True, input_shape=(10, 4)))\n",
    "model.add(Dropout(0.1))\n",
    "\n",
    "# 두 번째 LSTM 레이어와 Dropout 레이어 추가\n",
    "model.add(LSTM(units=20, activation='relu'))\n",
    "model.add(Dropout(0.1))\n",
    "\n",
    "# 출력층 유닛은 1\n",
    "model.add(Dense(units=1))\n",
    "\n",
    "model.summary()"
   ]
  },
  {
   "cell_type": "code",
   "execution_count": 73,
   "id": "2d0a637a-dcf1-4cfc-bdb9-c5833ba9307c",
   "metadata": {},
   "outputs": [
    {
     "name": "stdout",
     "output_type": "stream",
     "text": [
      "Epoch 1/70\n",
      "12/12 [==============================] - 2s 4ms/step - loss: 0.1642\n",
      "Epoch 2/70\n",
      "12/12 [==============================] - 0s 4ms/step - loss: 0.0960\n",
      "Epoch 3/70\n",
      "12/12 [==============================] - 0s 4ms/step - loss: 0.0282\n",
      "Epoch 4/70\n",
      "12/12 [==============================] - 0s 5ms/step - loss: 0.0215\n",
      "Epoch 5/70\n",
      "12/12 [==============================] - 0s 4ms/step - loss: 0.0145\n",
      "Epoch 6/70\n",
      "12/12 [==============================] - 0s 4ms/step - loss: 0.0102\n",
      "Epoch 7/70\n",
      "12/12 [==============================] - 0s 4ms/step - loss: 0.0124\n",
      "Epoch 8/70\n",
      "12/12 [==============================] - 0s 4ms/step - loss: 0.0110\n",
      "Epoch 9/70\n",
      "12/12 [==============================] - 0s 5ms/step - loss: 0.0093\n",
      "Epoch 10/70\n",
      "12/12 [==============================] - 0s 4ms/step - loss: 0.0069\n",
      "Epoch 11/70\n",
      "12/12 [==============================] - 0s 3ms/step - loss: 0.0102\n",
      "Epoch 12/70\n",
      "12/12 [==============================] - 0s 3ms/step - loss: 0.0072\n",
      "Epoch 13/70\n",
      "12/12 [==============================] - 0s 3ms/step - loss: 0.0088\n",
      "Epoch 14/70\n",
      "12/12 [==============================] - 0s 4ms/step - loss: 0.0068\n",
      "Epoch 15/70\n",
      "12/12 [==============================] - 0s 3ms/step - loss: 0.0085\n",
      "Epoch 16/70\n",
      "12/12 [==============================] - 0s 3ms/step - loss: 0.0071\n",
      "Epoch 17/70\n",
      "12/12 [==============================] - 0s 4ms/step - loss: 0.0074\n",
      "Epoch 18/70\n",
      "12/12 [==============================] - 0s 4ms/step - loss: 0.0065\n",
      "Epoch 19/70\n",
      "12/12 [==============================] - 0s 4ms/step - loss: 0.0073\n",
      "Epoch 20/70\n",
      "12/12 [==============================] - 0s 3ms/step - loss: 0.0069\n",
      "Epoch 21/70\n",
      "12/12 [==============================] - 0s 4ms/step - loss: 0.0071\n",
      "Epoch 22/70\n",
      "12/12 [==============================] - 0s 4ms/step - loss: 0.0068\n",
      "Epoch 23/70\n",
      "12/12 [==============================] - 0s 4ms/step - loss: 0.0064\n",
      "Epoch 24/70\n",
      "12/12 [==============================] - 0s 3ms/step - loss: 0.0079\n",
      "Epoch 25/70\n",
      "12/12 [==============================] - 0s 4ms/step - loss: 0.0067\n",
      "Epoch 26/70\n",
      "12/12 [==============================] - 0s 3ms/step - loss: 0.0064\n",
      "Epoch 27/70\n",
      "12/12 [==============================] - 0s 4ms/step - loss: 0.0073\n",
      "Epoch 28/70\n",
      "12/12 [==============================] - 0s 4ms/step - loss: 0.0065\n",
      "Epoch 29/70\n",
      "12/12 [==============================] - 0s 4ms/step - loss: 0.0060\n",
      "Epoch 30/70\n",
      "12/12 [==============================] - 0s 4ms/step - loss: 0.0056\n",
      "Epoch 31/70\n",
      "12/12 [==============================] - 0s 4ms/step - loss: 0.0060\n",
      "Epoch 32/70\n",
      "12/12 [==============================] - 0s 3ms/step - loss: 0.0067\n",
      "Epoch 33/70\n",
      "12/12 [==============================] - 0s 3ms/step - loss: 0.0063\n",
      "Epoch 34/70\n",
      "12/12 [==============================] - 0s 3ms/step - loss: 0.0068\n",
      "Epoch 35/70\n",
      "12/12 [==============================] - 0s 4ms/step - loss: 0.0055\n",
      "Epoch 36/70\n",
      "12/12 [==============================] - 0s 3ms/step - loss: 0.0055\n",
      "Epoch 37/70\n",
      "12/12 [==============================] - 0s 4ms/step - loss: 0.0065\n",
      "Epoch 38/70\n",
      "12/12 [==============================] - 0s 4ms/step - loss: 0.0061\n",
      "Epoch 39/70\n",
      "12/12 [==============================] - 0s 4ms/step - loss: 0.0060\n",
      "Epoch 40/70\n",
      "12/12 [==============================] - 0s 4ms/step - loss: 0.0057\n",
      "Epoch 41/70\n",
      "12/12 [==============================] - 0s 4ms/step - loss: 0.0055\n",
      "Epoch 42/70\n",
      "12/12 [==============================] - 0s 4ms/step - loss: 0.0060\n",
      "Epoch 43/70\n",
      "12/12 [==============================] - 0s 4ms/step - loss: 0.0065\n",
      "Epoch 44/70\n",
      "12/12 [==============================] - 0s 4ms/step - loss: 0.0056\n",
      "Epoch 45/70\n",
      "12/12 [==============================] - 0s 4ms/step - loss: 0.0048\n",
      "Epoch 46/70\n",
      "12/12 [==============================] - 0s 4ms/step - loss: 0.0048\n",
      "Epoch 47/70\n",
      "12/12 [==============================] - 0s 3ms/step - loss: 0.0050\n",
      "Epoch 48/70\n",
      "12/12 [==============================] - 0s 3ms/step - loss: 0.0047\n",
      "Epoch 49/70\n",
      "12/12 [==============================] - 0s 3ms/step - loss: 0.0057\n",
      "Epoch 50/70\n",
      "12/12 [==============================] - 0s 3ms/step - loss: 0.0055\n",
      "Epoch 51/70\n",
      "12/12 [==============================] - 0s 4ms/step - loss: 0.0056\n",
      "Epoch 52/70\n",
      "12/12 [==============================] - 0s 4ms/step - loss: 0.0049\n",
      "Epoch 53/70\n",
      "12/12 [==============================] - 0s 4ms/step - loss: 0.0052\n",
      "Epoch 54/70\n",
      "12/12 [==============================] - 0s 4ms/step - loss: 0.0053\n",
      "Epoch 55/70\n",
      "12/12 [==============================] - 0s 3ms/step - loss: 0.0046\n",
      "Epoch 56/70\n",
      "12/12 [==============================] - 0s 3ms/step - loss: 0.0056\n",
      "Epoch 57/70\n",
      "12/12 [==============================] - 0s 4ms/step - loss: 0.0045\n",
      "Epoch 58/70\n",
      "12/12 [==============================] - 0s 4ms/step - loss: 0.0054\n",
      "Epoch 59/70\n",
      "12/12 [==============================] - 0s 4ms/step - loss: 0.0053\n",
      "Epoch 60/70\n",
      "12/12 [==============================] - 0s 4ms/step - loss: 0.0048\n",
      "Epoch 61/70\n",
      "12/12 [==============================] - 0s 3ms/step - loss: 0.0045\n",
      "Epoch 62/70\n",
      "12/12 [==============================] - 0s 3ms/step - loss: 0.0045\n",
      "Epoch 63/70\n",
      "12/12 [==============================] - 0s 3ms/step - loss: 0.0045\n",
      "Epoch 64/70\n",
      "12/12 [==============================] - 0s 3ms/step - loss: 0.0067\n",
      "Epoch 65/70\n",
      "12/12 [==============================] - 0s 3ms/step - loss: 0.0044\n",
      "Epoch 66/70\n",
      "12/12 [==============================] - 0s 3ms/step - loss: 0.0050\n",
      "Epoch 67/70\n",
      "12/12 [==============================] - 0s 3ms/step - loss: 0.0043\n",
      "Epoch 68/70\n",
      "12/12 [==============================] - 0s 3ms/step - loss: 0.0051\n",
      "Epoch 69/70\n",
      "12/12 [==============================] - 0s 3ms/step - loss: 0.0047\n",
      "Epoch 70/70\n",
      "12/12 [==============================] - 0s 3ms/step - loss: 0.0052\n",
      "5/5 [==============================] - 0s 2ms/step\n"
     ]
    }
   ],
   "source": [
    "model.compile(optimizer='adam', loss='mean_squared_error')\n",
    "model.fit(train_X, train_y, epochs=70, batch_size=30)\n",
    "pred_y = model.predict(test_X)"
   ]
  },
  {
   "cell_type": "code",
   "execution_count": 57,
   "id": "e6177c11-6db6-47a4-84cb-07a1870b11ee",
   "metadata": {},
   "outputs": [
    {
     "name": "stdout",
     "output_type": "stream",
     "text": [
      "5/5 [==============================] - 0s 2ms/step - loss: 0.0028\n"
     ]
    },
    {
     "data": {
      "text/plain": [
       "0.002820099936798215"
      ]
     },
     "execution_count": 57,
     "metadata": {},
     "output_type": "execute_result"
    }
   ],
   "source": [
    "model.evaluate(test_X, test_y)"
   ]
  },
  {
   "cell_type": "code",
   "execution_count": 58,
   "id": "06ecd9f2-db57-409f-abf2-74520d3331f4",
   "metadata": {},
   "outputs": [
    {
     "name": "stdout",
     "output_type": "stream",
     "text": [
      "5/5 [==============================] - 0s 1ms/step\n"
     ]
    }
   ],
   "source": [
    "y_pred = model.predict(test_X)"
   ]
  },
  {
   "cell_type": "code",
   "execution_count": 59,
   "id": "6ee2d36b-0ec0-49db-a759-32f1c2f7bbf2",
   "metadata": {},
   "outputs": [
    {
     "name": "stdout",
     "output_type": "stream",
     "text": [
      "MSE: 0.002820099577268459\n"
     ]
    }
   ],
   "source": [
    "mse = tf.reduce_mean(tf.square(test_y - y_pred))\n",
    "\n",
    "print(f'MSE: {mse.numpy()}')"
   ]
  },
  {
   "cell_type": "code",
   "execution_count": 60,
   "id": "d95a4a6f-49e4-48e9-8b6b-d212e3189e49",
   "metadata": {},
   "outputs": [
    {
     "name": "stdout",
     "output_type": "stream",
     "text": [
      "평균제곱근오차 0.053104609755354186\n"
     ]
    }
   ],
   "source": [
    "from sklearn.metrics import mean_squared_error\n",
    "\n",
    "mse = np.sqrt(mean_squared_error(pred_y, test_y))\n",
    "print('평균제곱근오차', mse)"
   ]
  },
  {
   "cell_type": "markdown",
   "id": "190f14cc-6f5e-4033-adf7-f96ac57e89d7",
   "metadata": {},
   "source": [
    "### RNN 사용했을 때"
   ]
  },
  {
   "cell_type": "code",
   "execution_count": 68,
   "id": "6faf8425-14b5-4990-bdab-86604764d69a",
   "metadata": {},
   "outputs": [
    {
     "name": "stdout",
     "output_type": "stream",
     "text": [
      "5/5 [==============================] - 0s 1ms/step\n"
     ]
    },
    {
     "data": {
      "image/png": "[encoded data removed]",
      "text/plain": [
       "<Figure size 640x480 with 1 Axes>"
      ]
     },
     "metadata": {},
     "output_type": "display_data"
    }
   ],
   "source": [
    "pred_y = model.predict(test_X)\n",
    "\n",
    "plt.figure()\n",
    "plt.plot(test_y, color='red', label='real stock price')\n",
    "plt.plot(pred_y, color='blue', label='predicted stock price')\n",
    "plt.title('stock price prediction_RNN')\n",
    "plt.xlabel('time')\n",
    "plt.ylabel('stock price')\n",
    "plt.legend()\n",
    "plt.show()\n"
   ]
  },
  {
   "cell_type": "markdown",
   "id": "926377e1-2812-4716-be5f-ef648c546821",
   "metadata": {},
   "source": [
    "#### LSTM 사용했을 때"
   ]
  },
  {
   "cell_type": "code",
   "execution_count": 65,
   "id": "f0962f08-bf18-4188-97d7-78b6582cf7a9",
   "metadata": {},
   "outputs": [
    {
     "name": "stdout",
     "output_type": "stream",
     "text": [
      "5/5 [==============================] - 0s 2ms/step\n"
     ]
    },
    {
     "data": {
      "image/png": "[encoded data removed]",
      "text/plain": [
       "<Figure size 640x480 with 1 Axes>"
      ]
     },
     "metadata": {},
     "output_type": "display_data"
    }
   ],
   "source": [
    "pred_y = model.predict(test_X)\n",
    "\n",
    "plt.figure()\n",
    "plt.plot(test_y, color='red', label='real stock price')\n",
    "plt.plot(pred_y, color='blue', label='predicted stock price')\n",
    "plt.title('stock price prediction_LSTM')\n",
    "plt.xlabel('time')\n",
    "plt.ylabel('stock price')\n",
    "plt.legend()\n",
    "plt.show()\n"
   ]
  }
 ],
 "metadata": {
  "kernelspec": {
   "display_name": "Python 3 (ipykernel)",
   "language": "python",
   "name": "python3"
  },
  "language_info": {
   "codemirror_mode": {
    "name": "ipython",
    "version": 3
   },
   "file_extension": ".py",
   "mimetype": "text/x-python",
   "name": "python",
   "nbconvert_exporter": "python",
   "pygments_lexer": "ipython3",
   "version": "3.11.7"
  }
 },
 "nbformat": 4,
 "nbformat_minor": 5
}
