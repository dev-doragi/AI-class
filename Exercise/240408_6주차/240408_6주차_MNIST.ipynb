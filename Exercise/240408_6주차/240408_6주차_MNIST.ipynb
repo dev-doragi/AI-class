{
 "cells": [
  {
   "cell_type": "code",
   "execution_count": 1,
   "id": "bfaf2a12-d286-473b-9515-0626e13fd531",
   "metadata": {},
   "outputs": [],
   "source": [
    "import pandas as pd\n",
    "import numpy as np\n",
    "import matplotlib.pyplot as plt\n",
    "from sklearn import datasets, metrics\n",
    "from sklearn.model_selection import train_test_split\n",
    "from sklearn.preprocessing import StandardScaler, LabelEncoder\n",
    "from sklearn.neighbors import KNeighborsClassifier\n",
    "import seaborn as sns"
   ]
  },
  {
   "cell_type": "code",
   "execution_count": 2,
   "id": "1e21ebe7-5926-482d-9974-6d7d4c5e0317",
   "metadata": {},
   "outputs": [
    {
     "data": {
      "text/plain": [
       "<matplotlib.image.AxesImage at 0x1f0f7a2ed50>"
      ]
     },
     "execution_count": 2,
     "metadata": {},
     "output_type": "execute_result"
    },
    {
     "data": {
      "image/png": "[encoded data removed]",
      "text/plain": [
       "<Figure size 640x480 with 1 Axes>"
      ]
     },
     "metadata": {},
     "output_type": "display_data"
    }
   ],
   "source": [
    "digits = datasets.load_digits()\n",
    "plt.imshow(digits.images[0], cmap=plt.cm.gray_r, interpolation='nearest')"
   ]
  },
  {
   "cell_type": "code",
   "execution_count": 3,
   "id": "235a9b05-038f-4f91-a7ca-6b86e15abedb",
   "metadata": {},
   "outputs": [],
   "source": [
    "# 평탄화 작업, 2차원 배열을 1차원으로 평탄화하는 작업이다.\n",
    "# reshape의 인수가 -1이면, 데이터의 개수만큼의 차원이 만들어진다.\n",
    "n_samples = len(digits.images)\n",
    "data = digits.images.reshape((n_samples, -1))"
   ]
  },
  {
   "cell_type": "code",
   "execution_count": 4,
   "id": "0f6225d6-5c69-4266-8f83-d6654a2590d1",
   "metadata": {},
   "outputs": [
    {
     "data": {
      "text/plain": [
       "array([[ 0.,  3., 13., ..., 12.,  9.,  1.],\n",
       "       [ 0.,  0.,  1., ..., 13.,  1.,  0.],\n",
       "       [ 0.,  0.,  4., ...,  9.,  0.,  0.],\n",
       "       ...,\n",
       "       [ 0.,  0.,  5., ...,  0.,  0.,  0.],\n",
       "       [ 0.,  0.,  4., ...,  0.,  0.,  0.],\n",
       "       [ 0.,  0.,  6., ..., 11.,  0.,  0.]])"
      ]
     },
     "execution_count": 4,
     "metadata": {},
     "output_type": "execute_result"
    }
   ],
   "source": [
    "from sklearn.model_selection import train_test_split\n",
    "\n",
    "X_train, X_test, y_train, y_test = train_test_split(data, digits.target, test_size=0.25, random_state=0)\n",
    "# random_state는 데이터를 무작위로 나누거나 섞을 때 사용되는 난수 발생기의 시드(seed) 값\n",
    "X_train"
   ]
  },
  {
   "cell_type": "code",
   "execution_count": 5,
   "id": "75a90dc9-68c0-4478-a8e5-fdc713e16b40",
   "metadata": {},
   "outputs": [],
   "source": [
    "from sklearn.neighbors import KNeighborsClassifier\n",
    "\n",
    "knn = KNeighborsClassifier(n_neighbors=4)"
   ]
  },
  {
   "cell_type": "code",
   "execution_count": 5,
   "id": "75a90dc9-68c0-4478-a8e5-fdc713e16b40",
   "metadata": {},
   "outputs": [
    {
     "data": {
      "text/html": [
       "<style>#sk-container-id-1 {color: black;background-color: white;}#sk-container-id-1 pre{padding: 0;}#sk-container-id-1 div.sk-toggleable {background-color: white;}#sk-container-id-1 label.sk-toggleable__label {cursor: pointer;display: block;width: 100%;margin-bottom: 0;padding: 0.3em;box-sizing: border-box;text-align: center;}#sk-container-id-1 label.sk-toggleable__label-arrow:before {content: \"▸\";float: left;margin-right: 0.25em;color: #696969;}#sk-container-id-1 label.sk-toggleable__label-arrow:hover:before {color: black;}#sk-container-id-1 div.sk-estimator:hover label.sk-toggleable__label-arrow:before {color: black;}#sk-container-id-1 div.sk-toggleable__content {max-height: 0;max-width: 0;overflow: hidden;text-align: left;background-color: #f0f8ff;}#sk-container-id-1 div.sk-toggleable__content pre {margin: 0.2em;color: black;border-radius: 0.25em;background-color: #f0f8ff;}#sk-container-id-1 input.sk-toggleable__control:checked~div.sk-toggleable__content {max-height: 200px;max-width: 100%;overflow: auto;}#sk-container-id-1 input.sk-toggleable__control:checked~label.sk-toggleable__label-arrow:before {content: \"▾\";}#sk-container-id-1 div.sk-estimator input.sk-toggleable__control:checked~label.sk-toggleable__label {background-color: #d4ebff;}#sk-container-id-1 div.sk-label input.sk-toggleable__control:checked~label.sk-toggleable__label {background-color: #d4ebff;}#sk-container-id-1 input.sk-hidden--visually {border: 0;clip: rect(1px 1px 1px 1px);clip: rect(1px, 1px, 1px, 1px);height: 1px;margin: -1px;overflow: hidden;padding: 0;position: absolute;width: 1px;}#sk-container-id-1 div.sk-estimator {font-family: monospace;background-color: #f0f8ff;border: 1px dotted black;border-radius: 0.25em;box-sizing: border-box;margin-bottom: 0.5em;}#sk-container-id-1 div.sk-estimator:hover {background-color: #d4ebff;}#sk-container-id-1 div.sk-parallel-item::after {content: \"\";width: 100%;border-bottom: 1px solid gray;flex-grow: 1;}#sk-container-id-1 div.sk-label:hover label.sk-toggleable__label {background-color: #d4ebff;}#sk-container-id-1 div.sk-serial::before {content: \"\";position: absolute;border-left: 1px solid gray;box-sizing: border-box;top: 0;bottom: 0;left: 50%;z-index: 0;}#sk-container-id-1 div.sk-serial {display: flex;flex-direction: column;align-items: center;background-color: white;padding-right: 0.2em;padding-left: 0.2em;position: relative;}#sk-container-id-1 div.sk-item {position: relative;z-index: 1;}#sk-container-id-1 div.sk-parallel {display: flex;align-items: stretch;justify-content: center;background-color: white;position: relative;}#sk-container-id-1 div.sk-item::before, #sk-container-id-1 div.sk-parallel-item::before {content: \"\";position: absolute;border-left: 1px solid gray;box-sizing: border-box;top: 0;bottom: 0;left: 50%;z-index: -1;}#sk-container-id-1 div.sk-parallel-item {display: flex;flex-direction: column;z-index: 1;position: relative;background-color: white;}#sk-container-id-1 div.sk-parallel-item:first-child::after {align-self: flex-end;width: 50%;}#sk-container-id-1 div.sk-parallel-item:last-child::after {align-self: flex-start;width: 50%;}#sk-container-id-1 div.sk-parallel-item:only-child::after {width: 0;}#sk-container-id-1 div.sk-dashed-wrapped {border: 1px dashed gray;margin: 0 0.4em 0.5em 0.4em;box-sizing: border-box;padding-bottom: 0.4em;background-color: white;}#sk-container-id-1 div.sk-label label {font-family: monospace;font-weight: bold;display: inline-block;line-height: 1.2em;}#sk-container-id-1 div.sk-label-container {text-align: center;}#sk-container-id-1 div.sk-container {/* jupyter's `normalize.less` sets `[hidden] { display: none; }` but bootstrap.min.css set `[hidden] { display: none !important; }` so we also need the `!important` here to be able to override the default hidden behavior on the sphinx rendered scikit-learn.org. See: https://github.com/scikit-learn/scikit-learn/issues/21755 */display: inline-block !important;position: relative;}#sk-container-id-1 div.sk-text-repr-fallback {display: none;}</style><div id=\"sk-container-id-1\" class=\"sk-top-container\"><div class=\"sk-text-repr-fallback\"><pre>KNeighborsClassifier(n_neighbors=4)</pre><b>In a Jupyter environment, please rerun this cell to show the HTML representation or trust the notebook. <br />On GitHub, the HTML representation is unable to render, please try loading this page with nbviewer.org.</b></div><div class=\"sk-container\" hidden><div class=\"sk-item\"><div class=\"sk-estimator sk-toggleable\"><input class=\"sk-toggleable__control sk-hidden--visually\" id=\"sk-estimator-id-1\" type=\"checkbox\" checked><label for=\"sk-estimator-id-1\" class=\"sk-toggleable__label sk-toggleable__label-arrow\">KNeighborsClassifier</label><div class=\"sk-toggleable__content\"><pre>KNeighborsClassifier(n_neighbors=4)</pre></div></div></div></div></div>"
      ],
      "text/plain": [
       "KNeighborsClassifier(n_neighbors=4)"
      ]
     },
     "execution_count": 5,
     "metadata": {},
     "output_type": "execute_result"
    }
   ],
   "source": [
    "knn.fit(X_train, y_train)"
   ]
  },
  {
   "cell_type": "code",
   "execution_count": 6,
   "id": "32126c22-9fe7-4d82-a6a9-eb1e033f9bae",
   "metadata": {},
   "outputs": [
    {
     "name": "stdout",
     "output_type": "stream",
     "text": [
      "0.98\n"
     ]
    }
   ],
   "source": [
    "# 테스트 데이터로 예측\n",
    "y_pred = knn.predict(X_test)\n",
    "\n",
    "# 정확도 예측\n",
    "scores = metrics.accuracy_score(y_test, y_pred)\n",
    "print(scores)"
   ]
  },
  {
   "cell_type": "code",
   "execution_count": 7,
   "id": "3b20941a-2c15-4c45-859d-18ea09213a62",
   "metadata": {},
   "outputs": [],
   "source": [
    "from sklearn.linear_model import LogisticRegression\n",
    "from sklearn.svm import SVC\n",
    "from sklearn.neural_network import MLPClassifier\n",
    "from sklearn.tree import DecisionTreeClassifier\n",
    "from sklearn.metrics import accuracy_score\n",
    "from sklearn.metrics import confusion_matrix"
   ]
  },
  {
   "cell_type": "code",
   "execution_count": 8,
   "id": "c59c8bbf-29af-4f97-8f4a-0c5fcda2a3c5",
   "metadata": {},
   "outputs": [
    {
     "name": "stdout",
     "output_type": "stream",
     "text": [
      "\n",
      "--- SVM Classifier ---\n",
      "0.9911111111111112\n",
      "[[37  0  0  0  0  0  0  0  0  0]\n",
      " [ 0 43  0  0  0  0  0  0  0  0]\n",
      " [ 0  0 44  0  0  0  0  0  0  0]\n",
      " [ 0  0  0 44  0  0  0  0  1  0]\n",
      " [ 0  0  0  0 38  0  0  0  0  0]\n",
      " [ 0  0  0  0  0 47  0  0  0  1]\n",
      " [ 0  0  0  0  0  0 52  0  0  0]\n",
      " [ 0  0  0  0  0  0  0 48  0  0]\n",
      " [ 0  1  0  0  0  0  0  0 47  0]\n",
      " [ 0  0  0  0  0  1  0  0  0 46]]\n"
     ]
    }
   ],
   "source": [
    "from sklearn.svm import SVC\n",
    "\n",
    "clf_svm = SVC(random_state=0)\n",
    "clf_svm.fit(X_train, y_train)\n",
    "\n",
    "pred_svm = clf_svm.predict(X_test)\n",
    "\n",
    "print(\"\\n--- SVM Classifier ---\")\n",
    "print(accuracy_score(y_test, pred_svm))\n",
    "print(confusion_matrix(y_test, pred_svm))"
   ]
  },
  {
   "cell_type": "code",
   "execution_count": 9,
   "id": "2ba0255d-408c-4eb1-ae4d-5587c6a2b3ab",
   "metadata": {},
   "outputs": [
    {
     "name": "stdout",
     "output_type": "stream",
     "text": [
      "\n",
      "--- Logistic Regression Classifier ---\n",
      "0.9511111111111111\n",
      "[[37  0  0  0  0  0  0  0  0  0]\n",
      " [ 0 40  0  0  0  0  0  0  2  1]\n",
      " [ 0  1 40  3  0  0  0  0  0  0]\n",
      " [ 0  0  0 43  0  0  0  0  1  1]\n",
      " [ 0  0  0  0 37  0  0  1  0  0]\n",
      " [ 0  0  0  0  0 46  0  0  0  2]\n",
      " [ 0  1  0  0  0  0 51  0  0  0]\n",
      " [ 0  0  0  1  1  0  0 46  0  0]\n",
      " [ 0  3  1  0  0  0  0  0 43  1]\n",
      " [ 0  0  0  0  0  1  0  0  1 45]]\n"
     ]
    },
    {
     "name": "stderr",
     "output_type": "stream",
     "text": [
      "C:\\Users\\Choij\\anaconda3\\Lib\\site-packages\\sklearn\\linear_model\\_logistic.py:458: ConvergenceWarning: lbfgs failed to converge (status=1):\n",
      "STOP: TOTAL NO. of ITERATIONS REACHED LIMIT.\n",
      "\n",
      "Increase the number of iterations (max_iter) or scale the data as shown in:\n",
      "    https://scikit-learn.org/stable/modules/preprocessing.html\n",
      "Please also refer to the documentation for alternative solver options:\n",
      "    https://scikit-learn.org/stable/modules/linear_model.html#logistic-regression\n",
      "  n_iter_i = _check_optimize_result(\n"
     ]
    }
   ],
   "source": [
    "# Build a logistic regression classifier and predict\n",
    "\n",
    "clf_lr = LogisticRegression(random_state=0)\n",
    "clf_lr.fit(X_train, y_train)\n",
    "\n",
    "pred_lr = clf_lr.predict(X_test) \n",
    "#예측한 값을 pred_lr에 저장\n",
    "\n",
    "print (\"\\n--- Logistic Regression Classifier ---\")\n",
    "print (accuracy_score(y_test, pred_lr))\n",
    "#예측한 값과 실제 값을 비교\n",
    "print (confusion_matrix(y_test, pred_lr))"
   ]
  },
  {
   "cell_type": "code",
   "execution_count": 10,
   "id": "dd70bdd2-29dd-41fc-b1e1-4193f8183b89",
   "metadata": {},
   "outputs": [
    {
     "name": "stdout",
     "output_type": "stream",
     "text": [
      "\n",
      "--- Neural Network Classifier ---\n",
      "0.9733333333333334\n",
      "[[37  0  0  0  0  0  0  0  0  0]\n",
      " [ 0 42  0  0  0  1  0  0  0  0]\n",
      " [ 0  0 44  0  0  0  0  0  0  0]\n",
      " [ 0  0  0 44  0  0  0  0  1  0]\n",
      " [ 0  0  0  0 37  0  0  1  0  0]\n",
      " [ 0  0  0  0  0 47  0  0  0  1]\n",
      " [ 0  1  0  0  0  0 51  0  0  0]\n",
      " [ 0  0  0  0  0  0  0 48  0  0]\n",
      " [ 0  2  1  0  0  0  1  0 43  1]\n",
      " [ 1  0  0  0  0  1  0  0  0 45]]\n"
     ]
    }
   ],
   "source": [
    "clf_nn = MLPClassifier(random_state=0)\n",
    "clf_nn.fit(X_train, y_train)\n",
    "\n",
    "pred_nn = clf_nn.predict(X_test)\n",
    "\n",
    "print (\"\\n--- Neural Network Classifier ---\")\n",
    "print (accuracy_score(y_test, pred_nn))\n",
    "print (confusion_matrix(y_test, pred_nn))"
   ]
  },
  {
   "cell_type": "code",
   "execution_count": 11,
   "id": "c40c16fa-aa2b-4079-9cb1-c85f452b2118",
   "metadata": {},
   "outputs": [
    {
     "name": "stdout",
     "output_type": "stream",
     "text": [
      "\n",
      "--- Decision Tree Classifier ---\n",
      "0.8377777777777777\n",
      "[[34  0  0  0  0  0  1  0  0  2]\n",
      " [ 0 36  4  1  1  0  0  0  0  1]\n",
      " [ 1  3 35  1  1  0  0  0  1  2]\n",
      " [ 0  1  3 35  0  0  0  1  2  3]\n",
      " [ 1  1  0  0 32  0  1  1  0  2]\n",
      " [ 1  0  1  3  0 41  0  0  1  1]\n",
      " [ 0  0  0  1  0  0 50  0  1  0]\n",
      " [ 1  0  1  1  1  2  0 39  1  2]\n",
      " [ 0  2  2  6  0  2  0  0 36  0]\n",
      " [ 0  2  2  2  1  1  0  0  0 39]]\n"
     ]
    }
   ],
   "source": [
    "# Build a decision tree classifier and predict\n",
    "\n",
    "clf_dt = DecisionTreeClassifier(random_state=0)\n",
    "clf_dt.fit(X_train, y_train)\n",
    "\n",
    "pred_dt = clf_dt.predict(X_test)\n",
    "\n",
    "print (\"\\n--- Decision Tree Classifier ---\")\n",
    "print (accuracy_score(y_test, pred_dt))\n",
    "print (confusion_matrix(y_test, pred_dt))"
   ]
  },
  {
   "cell_type": "code",
   "execution_count": 36,
   "id": "8ab774bd-04a8-4d3e-836e-d7f94ae8ebf6",
   "metadata": {},
   "outputs": [
    {
     "data": {
      "text/plain": [
       "<matplotlib.image.AxesImage at 0x1f0fb510b10>"
      ]
     },
     "execution_count": 36,
     "metadata": {},
     "output_type": "execute_result"
    },
    {
     "data": {
      "image/png": "[encoded data removed]",
      "text/plain": [
       "<Figure size 640x480 with 1 Axes>"
      ]
     },
     "metadata": {},
     "output_type": "display_data"
    }
   ],
   "source": [
    "# 10번째 이미지를 출력\n",
    "test_num = X_test[25]\n",
    "plt.imshow(test_num.reshape(8,8), cmap=plt.cm.gray_r, interpolation='nearest')"
   ]
  },
  {
   "cell_type": "code",
   "execution_count": 20,
   "id": "61593ebc-e4ce-48bf-bd86-30f04da97f94",
   "metadata": {},
   "outputs": [
    {
     "name": "stdout",
     "output_type": "stream",
     "text": [
      "[8]\n"
     ]
    }
   ],
   "source": [
    "# 10번째 이미지를 보고 예측\n",
    "y_pred = knn.predict([X_test[8]])\n",
    "print(y_pred)"
   ]
  },
  {
   "cell_type": "code",
   "execution_count": 37,
   "id": "36a97bcf-ae73-4671-99cd-393d361c9581",
   "metadata": {},
   "outputs": [
    {
     "name": "stdout",
     "output_type": "stream",
     "text": [
      "[5]\n"
     ]
    }
   ],
   "source": [
    "y_pred = clf_svm.predict([test_num])\n",
    "print(y_pred)"
   ]
  },
  {
   "cell_type": "code",
   "execution_count": 41,
   "id": "56bb15c6-f3ba-46ed-8704-8bd30d9d6c93",
   "metadata": {},
   "outputs": [
    {
     "data": {
      "text/plain": [
       "array([[ 0.,  3., 13., ..., 12.,  9.,  1.],\n",
       "       [ 0.,  0.,  1., ..., 13.,  1.,  0.],\n",
       "       [ 0.,  0.,  4., ...,  9.,  0.,  0.],\n",
       "       ...,\n",
       "       [ 0.,  0.,  5., ...,  0.,  0.,  0.],\n",
       "       [ 0.,  0.,  4., ...,  0.,  0.,  0.],\n",
       "       [ 0.,  0.,  6., ..., 11.,  0.,  0.]])"
      ]
     },
     "execution_count": 15,
     "metadata": {},
     "output_type": "execute_result"
    }
   ],
   "source": [
    "X_train"
   ]
  },
  {
   "cell_type": "code",
   "execution_count": 16,
   "id": "eea2c271-2e3a-4780-90f1-ce1dc976070c",
   "metadata": {},
   "outputs": [
    {
     "data": {
      "text/plain": [
       "array([2, 8, 9, ..., 7, 7, 8])"
      ]
     },
     "execution_count": 16,
     "metadata": {},
     "output_type": "execute_result"
    }
   ],
   "source": [
    "y_train"
   ]
  },
  {
   "cell_type": "code",
   "execution_count": 17,
   "id": "40067a4b-71e8-42ea-a5cd-5e1bb9b760e5",
   "metadata": {},
   "outputs": [
    {
     "data": {
      "text/plain": [
       "array([[ 0.,  0., 11., ..., 13., 16.,  8.],\n",
       "       [ 0.,  1., 15., ...,  1.,  0.,  0.],\n",
       "       [ 0.,  2., 13., ..., 16., 16.,  3.],\n",
       "       ...,\n",
       "       [ 0.,  0., 11., ...,  7.,  0.,  0.],\n",
       "       [ 0.,  0.,  5., ...,  7.,  0.,  0.],\n",
       "       [ 0.,  2., 14., ...,  6.,  0.,  0.]])"
      ]
     },
     "execution_count": 17,
     "metadata": {},
     "output_type": "execute_result"
    }
   ],
   "source": [
    "X_test"
   ]
  },
  {
   "cell_type": "code",
   "execution_count": 18,
   "id": "1de74137-01e0-4b59-b93f-acb8b1c1c037",
   "metadata": {},
   "outputs": [
    {
     "data": {
      "text/plain": [
       "array([2, 8, 2, 6, 6, 7, 1, 9, 8, 5, 2, 8, 6, 6, 6, 6, 1, 0, 5, 8, 8, 7,\n",
       "       8, 4, 7, 5, 4, 9, 2, 9, 4, 7, 6, 8, 9, 4, 3, 1, 0, 1, 8, 6, 7, 7,\n",
       "       1, 0, 7, 6, 2, 1, 9, 6, 7, 9, 0, 0, 5, 1, 6, 3, 0, 2, 3, 4, 1, 9,\n",
       "       2, 6, 9, 1, 8, 3, 5, 1, 2, 8, 2, 2, 9, 7, 2, 3, 6, 0, 5, 3, 7, 5,\n",
       "       1, 2, 9, 9, 3, 1, 7, 7, 4, 8, 5, 8, 5, 5, 2, 5, 9, 0, 7, 1, 4, 7,\n",
       "       3, 4, 8, 9, 7, 9, 8, 2, 6, 5, 2, 5, 8, 4, 8, 7, 0, 6, 1, 5, 9, 9,\n",
       "       9, 5, 9, 9, 5, 7, 5, 6, 2, 8, 6, 9, 6, 1, 5, 1, 5, 9, 9, 1, 5, 3,\n",
       "       6, 1, 8, 9, 8, 7, 6, 7, 6, 5, 6, 0, 8, 8, 9, 8, 6, 1, 0, 4, 1, 6,\n",
       "       3, 8, 6, 7, 4, 5, 6, 3, 0, 3, 3, 3, 0, 7, 7, 5, 7, 8, 0, 7, 8, 9,\n",
       "       6, 4, 5, 0, 1, 4, 6, 4, 3, 3, 0, 9, 5, 9, 2, 1, 4, 2, 1, 6, 8, 9,\n",
       "       2, 4, 9, 3, 7, 6, 2, 3, 3, 1, 6, 9, 3, 6, 3, 2, 2, 0, 7, 6, 1, 1,\n",
       "       9, 7, 2, 7, 8, 5, 5, 7, 5, 2, 3, 7, 2, 7, 5, 5, 7, 0, 9, 1, 6, 5,\n",
       "       9, 7, 4, 3, 8, 0, 3, 6, 4, 6, 3, 2, 6, 8, 8, 8, 4, 6, 7, 5, 2, 4,\n",
       "       5, 3, 2, 4, 6, 9, 4, 5, 4, 3, 4, 6, 2, 9, 0, 1, 7, 2, 0, 9, 6, 0,\n",
       "       4, 2, 0, 7, 9, 8, 5, 4, 8, 2, 8, 4, 3, 7, 2, 6, 9, 1, 5, 1, 0, 8,\n",
       "       2, 1, 9, 5, 6, 8, 2, 7, 2, 1, 5, 1, 6, 4, 5, 0, 9, 4, 1, 1, 7, 0,\n",
       "       8, 9, 0, 5, 4, 3, 8, 8, 6, 5, 3, 4, 4, 4, 8, 8, 7, 0, 9, 6, 3, 5,\n",
       "       2, 3, 0, 8, 3, 3, 1, 3, 3, 0, 0, 4, 6, 0, 7, 7, 6, 2, 0, 4, 4, 2,\n",
       "       3, 7, 8, 9, 8, 6, 8, 5, 6, 2, 2, 3, 1, 7, 7, 8, 0, 3, 3, 2, 1, 5,\n",
       "       5, 9, 1, 3, 7, 0, 0, 7, 0, 4, 5, 9, 3, 3, 4, 3, 1, 8, 9, 8, 3, 6,\n",
       "       2, 1, 6, 2, 1, 7, 5, 5, 1, 9])"
      ]
     },
     "execution_count": 18,
     "metadata": {},
     "output_type": "execute_result"
    }
   ],
   "source": [
    "y_test"
   ]
  },
  {
   "cell_type": "markdown",
   "id": "f3c9990b-2aa8-46ab-b135-41b2d1beb684",
   "metadata": {},
   "source": [
    "### 딥러닝 응용"
   ]
  },
  {
   "cell_type": "code",
   "execution_count": 38,
   "id": "d4a31aef-7771-4af1-84f3-b6347278cc6a",
   "metadata": {},
   "outputs": [
    {
     "data": {
      "text/plain": [
       "(1347, 10)"
      ]
     },
     "execution_count": 38,
     "metadata": {},
     "output_type": "execute_result"
    }
   ],
   "source": [
    "#one hot encoding 하기\n",
    "\n",
    "y_train_one = pd.get_dummies(y_train).values\n",
    "y_train_one.shape"
   ]
  },
  {
   "cell_type": "code",
   "execution_count": 39,
   "id": "1d521527-63c7-4c5a-90e5-a5ec44ef26c5",
   "metadata": {},
   "outputs": [
    {
     "data": {
      "text/plain": [
       "(450, 10)"
      ]
     },
     "execution_count": 39,
     "metadata": {},
     "output_type": "execute_result"
    }
   ],
   "source": [
    "#one hot encoding 하기\n",
    "\n",
    "y_test_one = pd.get_dummies(y_test).values\n",
    "y_test_one.shape"
   ]
  },
  {
   "cell_type": "code",
   "execution_count": 40,
   "id": "16be82f5-1511-49a5-adbc-40b5ef107eef",
   "metadata": {},
   "outputs": [
    {
     "data": {
      "text/plain": [
       "(1347, 64)"
      ]
     },
     "execution_count": 40,
     "metadata": {},
     "output_type": "execute_result"
    }
   ],
   "source": [
    "X_train.shape"
   ]
  },
  {
   "cell_type": "code",
   "execution_count": 41,
   "id": "c6cf4f6b-db3f-4b47-8eac-efd57185ac8d",
   "metadata": {},
   "outputs": [
    {
     "data": {
      "text/plain": [
       "(450, 64)"
      ]
     },
     "execution_count": 41,
     "metadata": {},
     "output_type": "execute_result"
    }
   ],
   "source": [
    "X_test.shape"
   ]
  },
  {
   "cell_type": "code",
   "execution_count": 42,
   "id": "cf5c6e94-7301-4523-a3d8-6872decda7a4",
   "metadata": {},
   "outputs": [
    {
     "data": {
      "text/plain": [
       "(1347,)"
      ]
     },
     "execution_count": 42,
     "metadata": {},
     "output_type": "execute_result"
    }
   ],
   "source": [
    "y_train.shape"
   ]
  },
  {
   "cell_type": "code",
   "execution_count": 43,
   "id": "af8a9285-605b-4005-834d-c42577c4bc62",
   "metadata": {},
   "outputs": [
    {
     "data": {
      "text/plain": [
       "(450,)"
      ]
     },
     "execution_count": 43,
     "metadata": {},
     "output_type": "execute_result"
    }
   ],
   "source": [
    "y_test.shape"
   ]
  },
  {
   "cell_type": "code",
   "execution_count": 44,
   "id": "a7168659-5c59-404a-934c-2a30fdb95659",
   "metadata": {},
   "outputs": [
    {
     "name": "stdout",
     "output_type": "stream",
     "text": [
      "WARNING:tensorflow:From C:\\Anaconda\\Lib\\site-packages\\keras\\src\\losses.py:2976: The name tf.losses.sparse_softmax_cross_entropy is deprecated. Please use tf.compat.v1.losses.sparse_softmax_cross_entropy instead.\n",
      "\n",
      "WARNING:tensorflow:From C:\\Anaconda\\Lib\\site-packages\\keras\\src\\backend.py:873: The name tf.get_default_graph is deprecated. Please use tf.compat.v1.get_default_graph instead.\n",
      "\n",
      "Model: \"sequential\"\n",
      "_________________________________________________________________\n",
      " Layer (type)                Output Shape              Param #   \n",
      "=================================================================\n",
      " dense (Dense)               (None, 500)               32500     \n",
      "                                                                 \n",
      " dense_1 (Dense)             (None, 128)               64128     \n",
      "                                                                 \n",
      " dense_2 (Dense)             (None, 64)                8256      \n",
      "                                                                 \n",
      " dense_3 (Dense)             (None, 10)                650       \n",
      "                                                                 \n",
      "=================================================================\n",
      "Total params: 105534 (412.24 KB)\n",
      "Trainable params: 105534 (412.24 KB)\n",
      "Non-trainable params: 0 (0.00 Byte)\n",
      "_________________________________________________________________\n"
     ]
    }
   ],
   "source": [
    "#Defining the model \n",
    "#분류 예제\n",
    "#입력과 출력에 대한 숫자 조정이 중요함!!\n",
    "\n",
    "from keras.models import Sequential\n",
    "from keras.layers import Dense\n",
    "from keras.optimizers import SGD, Adam\n",
    "\n",
    "\n",
    "model = Sequential()\n",
    "\n",
    "model.add(Dense(500, input_shape=(X_train.shape[1],), activation='relu'))\n",
    "#input_shape: 입력 데이터의 모양을 지정한다. 첫 번째 레이어에서만 사용된다.\n",
    "model.add(Dense(128, activation='relu'))\n",
    "model.add(Dense(64, activation='relu'))\n",
    "model.add(Dense(10, activation='softmax'))\n",
    "#출력되는 숫자가 0~9이기 때문에 출력은 10으로 조정\n",
    "\n",
    "model.compile(Nadam(learning_rate=0.01),'categorical_crossentropy',metrics=['accuracy'])\n",
    "# 이진 분류일 때, model.compile(Adam(lr=0.04),'bce',metrics=['accuracy']) 를 써야한다.\n",
    "\n",
    "model.summary()"
   ]
  },
  {
   "cell_type": "code",
   "execution_count": 45,
   "id": "298acb20-4c62-456f-b2b1-b50abb42fa1a",
   "metadata": {},
   "outputs": [
    {
     "name": "stdout",
     "output_type": "stream",
     "text": [
      "Epoch 1/50\n",
      "WARNING:tensorflow:From C:\\Anaconda\\Lib\\site-packages\\keras\\src\\utils\\tf_utils.py:492: The name tf.ragged.RaggedTensorValue is deprecated. Please use tf.compat.v1.ragged.RaggedTensorValue instead.\n",
      "\n",
      "WARNING:tensorflow:From C:\\Anaconda\\Lib\\site-packages\\keras\\src\\engine\\base_layer_utils.py:384: The name tf.executing_eagerly_outside_functions is deprecated. Please use tf.compat.v1.executing_eagerly_outside_functions instead.\n",
      "\n",
      "43/43 [==============================] - 5s 14ms/step - loss: 1.6523 - accuracy: 0.6711 - val_loss: 0.5133 - val_accuracy: 0.8200\n",
      "Epoch 2/50\n",
      "43/43 [==============================] - 0s 5ms/step - loss: 0.1898 - accuracy: 0.9391 - val_loss: 0.2256 - val_accuracy: 0.9222\n",
      "Epoch 3/50\n",
      "43/43 [==============================] - 0s 5ms/step - loss: 0.1441 - accuracy: 0.9532 - val_loss: 0.8037 - val_accuracy: 0.8200\n",
      "Epoch 4/50\n",
      "43/43 [==============================] - 0s 5ms/step - loss: 0.2042 - accuracy: 0.9391 - val_loss: 0.2092 - val_accuracy: 0.9467\n",
      "Epoch 5/50\n",
      "43/43 [==============================] - 0s 5ms/step - loss: 0.0899 - accuracy: 0.9755 - val_loss: 0.1624 - val_accuracy: 0.9578\n",
      "Epoch 6/50\n",
      "43/43 [==============================] - 0s 5ms/step - loss: 0.0746 - accuracy: 0.9762 - val_loss: 2.2761 - val_accuracy: 0.7533\n",
      "Epoch 7/50\n",
      "43/43 [==============================] - 0s 5ms/step - loss: 0.3985 - accuracy: 0.8990 - val_loss: 0.8093 - val_accuracy: 0.8511\n",
      "Epoch 8/50\n",
      "43/43 [==============================] - 0s 5ms/step - loss: 0.1186 - accuracy: 0.9673 - val_loss: 0.1686 - val_accuracy: 0.9667\n",
      "Epoch 9/50\n",
      "43/43 [==============================] - 0s 6ms/step - loss: 0.1625 - accuracy: 0.9659 - val_loss: 0.5479 - val_accuracy: 0.8822\n",
      "Epoch 10/50\n",
      "43/43 [==============================] - 0s 7ms/step - loss: 0.1301 - accuracy: 0.9666 - val_loss: 0.2308 - val_accuracy: 0.9489\n",
      "Epoch 11/50\n",
      "43/43 [==============================] - 0s 6ms/step - loss: 0.0550 - accuracy: 0.9837 - val_loss: 0.1682 - val_accuracy: 0.9644\n",
      "Epoch 12/50\n",
      "43/43 [==============================] - 0s 5ms/step - loss: 0.0442 - accuracy: 0.9837 - val_loss: 0.2294 - val_accuracy: 0.9511\n",
      "Epoch 13/50\n",
      "43/43 [==============================] - 0s 6ms/step - loss: 0.0374 - accuracy: 0.9866 - val_loss: 0.1773 - val_accuracy: 0.9778\n",
      "Epoch 14/50\n",
      "43/43 [==============================] - 0s 6ms/step - loss: 0.0485 - accuracy: 0.9881 - val_loss: 0.2702 - val_accuracy: 0.9533\n",
      "Epoch 15/50\n",
      "43/43 [==============================] - 0s 4ms/step - loss: 0.0274 - accuracy: 0.9911 - val_loss: 0.1998 - val_accuracy: 0.9756\n",
      "Epoch 16/50\n",
      "43/43 [==============================] - 0s 6ms/step - loss: 0.0703 - accuracy: 0.9829 - val_loss: 0.3253 - val_accuracy: 0.9444\n",
      "Epoch 17/50\n",
      "43/43 [==============================] - 0s 6ms/step - loss: 0.1064 - accuracy: 0.9748 - val_loss: 0.6557 - val_accuracy: 0.9156\n",
      "Epoch 18/50\n",
      "43/43 [==============================] - 0s 5ms/step - loss: 0.1163 - accuracy: 0.9755 - val_loss: 0.3470 - val_accuracy: 0.9178\n",
      "Epoch 19/50\n",
      "43/43 [==============================] - 0s 5ms/step - loss: 0.1045 - accuracy: 0.9740 - val_loss: 0.2791 - val_accuracy: 0.9578\n",
      "Epoch 20/50\n",
      "43/43 [==============================] - 0s 5ms/step - loss: 0.0476 - accuracy: 0.9844 - val_loss: 0.1768 - val_accuracy: 0.9556\n",
      "Epoch 21/50\n",
      "43/43 [==============================] - 0s 6ms/step - loss: 0.0252 - accuracy: 0.9903 - val_loss: 0.8311 - val_accuracy: 0.9311\n",
      "Epoch 22/50\n",
      "43/43 [==============================] - 0s 5ms/step - loss: 0.0927 - accuracy: 0.9807 - val_loss: 0.1732 - val_accuracy: 0.9711\n",
      "Epoch 23/50\n",
      "43/43 [==============================] - 0s 5ms/step - loss: 0.0578 - accuracy: 0.9874 - val_loss: 0.3669 - val_accuracy: 0.9511\n",
      "Epoch 24/50\n",
      "43/43 [==============================] - 0s 5ms/step - loss: 0.0420 - accuracy: 0.9874 - val_loss: 0.2057 - val_accuracy: 0.9644\n",
      "Epoch 25/50\n",
      "43/43 [==============================] - 0s 6ms/step - loss: 0.0144 - accuracy: 0.9948 - val_loss: 0.1122 - val_accuracy: 0.9778\n",
      "Epoch 26/50\n",
      "43/43 [==============================] - 0s 6ms/step - loss: 0.0052 - accuracy: 0.9985 - val_loss: 0.1345 - val_accuracy: 0.9667\n",
      "Epoch 27/50\n",
      "43/43 [==============================] - 0s 6ms/step - loss: 0.0143 - accuracy: 0.9955 - val_loss: 0.1608 - val_accuracy: 0.9667\n",
      "Epoch 28/50\n",
      "43/43 [==============================] - 0s 4ms/step - loss: 0.0037 - accuracy: 0.9978 - val_loss: 0.1005 - val_accuracy: 0.9756\n",
      "Epoch 29/50\n",
      "43/43 [==============================] - 0s 5ms/step - loss: 0.0038 - accuracy: 0.9985 - val_loss: 0.0831 - val_accuracy: 0.9822\n",
      "Epoch 30/50\n",
      "43/43 [==============================] - 0s 5ms/step - loss: 0.0073 - accuracy: 0.9985 - val_loss: 0.1343 - val_accuracy: 0.9711\n",
      "Epoch 31/50\n",
      "43/43 [==============================] - 0s 5ms/step - loss: 0.0037 - accuracy: 0.9985 - val_loss: 0.0816 - val_accuracy: 0.9778\n",
      "Epoch 32/50\n",
      "43/43 [==============================] - 0s 5ms/step - loss: 0.0045 - accuracy: 0.9985 - val_loss: 0.0840 - val_accuracy: 0.9822\n",
      "Epoch 33/50\n",
      "43/43 [==============================] - 0s 5ms/step - loss: 0.0084 - accuracy: 0.9978 - val_loss: 0.1053 - val_accuracy: 0.9800\n",
      "Epoch 34/50\n",
      "43/43 [==============================] - 0s 5ms/step - loss: 0.0429 - accuracy: 0.9918 - val_loss: 0.6045 - val_accuracy: 0.9111\n",
      "Epoch 35/50\n",
      "43/43 [==============================] - 0s 6ms/step - loss: 0.4549 - accuracy: 0.9295 - val_loss: 0.3419 - val_accuracy: 0.9378\n",
      "Epoch 36/50\n",
      "43/43 [==============================] - 0s 5ms/step - loss: 0.2657 - accuracy: 0.9555 - val_loss: 0.2663 - val_accuracy: 0.9489\n",
      "Epoch 37/50\n",
      "43/43 [==============================] - 0s 4ms/step - loss: 0.0654 - accuracy: 0.9777 - val_loss: 0.3867 - val_accuracy: 0.9311\n",
      "Epoch 38/50\n",
      "43/43 [==============================] - 0s 5ms/step - loss: 0.1069 - accuracy: 0.9755 - val_loss: 0.3078 - val_accuracy: 0.9689\n",
      "Epoch 39/50\n",
      "43/43 [==============================] - 0s 6ms/step - loss: 0.2073 - accuracy: 0.9562 - val_loss: 0.4082 - val_accuracy: 0.9356\n",
      "Epoch 40/50\n",
      "43/43 [==============================] - 0s 6ms/step - loss: 0.1235 - accuracy: 0.9636 - val_loss: 0.6833 - val_accuracy: 0.8933\n",
      "Epoch 41/50\n",
      "43/43 [==============================] - 0s 7ms/step - loss: 0.1372 - accuracy: 0.9762 - val_loss: 0.1537 - val_accuracy: 0.9667\n",
      "Epoch 42/50\n",
      "43/43 [==============================] - 0s 7ms/step - loss: 0.0915 - accuracy: 0.9874 - val_loss: 0.3020 - val_accuracy: 0.9556\n",
      "Epoch 43/50\n",
      "43/43 [==============================] - 0s 6ms/step - loss: 0.0918 - accuracy: 0.9829 - val_loss: 0.4761 - val_accuracy: 0.9289\n",
      "Epoch 44/50\n",
      "43/43 [==============================] - 0s 5ms/step - loss: 0.0808 - accuracy: 0.9859 - val_loss: 0.3606 - val_accuracy: 0.9511\n",
      "Epoch 45/50\n",
      "43/43 [==============================] - 0s 5ms/step - loss: 0.0919 - accuracy: 0.9770 - val_loss: 0.3063 - val_accuracy: 0.9667\n",
      "Epoch 46/50\n",
      "43/43 [==============================] - 0s 6ms/step - loss: 0.0372 - accuracy: 0.9926 - val_loss: 0.5595 - val_accuracy: 0.9356\n",
      "Epoch 47/50\n",
      "43/43 [==============================] - 0s 6ms/step - loss: 0.0465 - accuracy: 0.9896 - val_loss: 0.3412 - val_accuracy: 0.9667\n",
      "Epoch 48/50\n",
      "43/43 [==============================] - 0s 5ms/step - loss: 0.0334 - accuracy: 0.9911 - val_loss: 0.4133 - val_accuracy: 0.9733\n",
      "Epoch 49/50\n",
      "43/43 [==============================] - 0s 5ms/step - loss: 0.0102 - accuracy: 0.9963 - val_loss: 0.3921 - val_accuracy: 0.9756\n",
      "Epoch 50/50\n",
      "43/43 [==============================] - 0s 5ms/step - loss: 0.0025 - accuracy: 0.9993 - val_loss: 0.3904 - val_accuracy: 0.9778\n",
      "15/15 [==============================] - 0s 3ms/step\n"
     ]
    }
   ],
   "source": [
    "model_history=model.fit(x=X_train, y=y_train_one, epochs=30, batch_size=32, validation_data=(X_test, y_test_one))\n",
    "y_pred = model.predict(X_test)\n",
    "\n",
    "y_test_class = np.argmax(y_test_one,axis=1)\n",
    "y_pred_class = np.argmax(y_pred,axis=1)"
   ]
  },
  {
   "cell_type": "code",
   "execution_count": 46,
   "id": "a9d63cb9-bd2f-4a74-a78d-4727a30c0406",
   "metadata": {},
   "outputs": [
    {
     "data": {
      "image/png": "[encoded data removed]",
      "text/plain": [
       "<Figure size 640x480 with 1 Axes>"
      ]
     },
     "metadata": {},
     "output_type": "display_data"
    }
   ],
   "source": [
    "import matplotlib.pyplot as plt\n",
    "import seaborn as sns\n",
    "\n",
    "# 훈련 손실(training loss)과 검증 손실(validation loss) 추출\n",
    "loss = model_history.history['loss']\n",
    "val_loss = model_history.history['val_loss']\n",
    "\n",
    "# 에포크(epoch) 범위 생성\n",
    "epochs = range(1, len(loss) + 1)\n",
    "\n",
    "# 훈련 손실(training loss)과 검증 손실(validation loss) 시각화\n",
    "plt.plot(epochs, loss, 'y', label='Training loss')  # 훈련 손실을 노란색(yellow)으로 플롯\n",
    "plt.plot(epochs, val_loss, 'r', label='Validation loss')  # 검증 손실을 빨간색(red)으로 플롯\n",
    "plt.title('Training and validation loss')  # 그래프 제목 설정\n",
    "plt.xlabel('Epochs')  # x축 레이블 설정\n",
    "plt.ylabel('Loss')  # y축 레이블 설정\n",
    "plt.legend()  # 범례(legend) 표시\n",
    "plt.show()  # 그래프 출력\n"
   ]
  },
  {
   "cell_type": "code",
   "execution_count": 47,
   "id": "cd8cd8db-3177-4ba7-b248-6fc49a62a7bc",
   "metadata": {},
   "outputs": [
    {
     "data": {
      "image/png": "[encoded data removed]",
      "text/plain": [
       "<Figure size 640x480 with 1 Axes>"
      ]
     },
     "metadata": {},
     "output_type": "display_data"
    }
   ],
   "source": [
    "acc =model_history.history['accuracy']\n",
    "val_acc =model_history.history['val_accuracy']\n",
    "plt.plot(epochs, acc, 'y', label='Training acc')\n",
    "plt.plot(epochs, val_acc, 'r', label='Validation acc')\n",
    "plt.title('Training and validation accuracy')\n",
    "plt.xlabel('Epochs')\n",
    "plt.ylabel('Accuracy')\n",
    "plt.legend()\n",
    "plt.show()"
   ]
  },
  {
   "cell_type": "code",
   "execution_count": 49,
   "id": "f3ccd76d-a815-4433-9d34-a9077a8c5e42",
   "metadata": {},
   "outputs": [
    {
     "name": "stdout",
     "output_type": "stream",
     "text": [
      "              precision    recall  f1-score   support\n",
      "\n",
      "           0       1.00      0.97      0.99        37\n",
      "           1       0.98      0.98      0.98        43\n",
      "           2       0.98      1.00      0.99        44\n",
      "           3       1.00      0.98      0.99        45\n",
      "           4       1.00      0.97      0.99        38\n",
      "           5       0.92      0.98      0.95        48\n",
      "           6       1.00      0.98      0.99        52\n",
      "           7       0.96      0.98      0.97        48\n",
      "           8       1.00      0.98      0.99        48\n",
      "           9       0.96      0.96      0.96        47\n",
      "\n",
      "    accuracy                           0.98       450\n",
      "   macro avg       0.98      0.98      0.98       450\n",
      "weighted avg       0.98      0.98      0.98       450\n",
      "\n",
      "[[36  0  0  0  0  1  0  0  0  0]\n",
      " [ 0 42  0  0  0  1  0  0  0  0]\n",
      " [ 0  0 44  0  0  0  0  0  0  0]\n",
      " [ 0  0  1 44  0  0  0  0  0  0]\n",
      " [ 0  0  0  0 37  0  0  1  0  0]\n",
      " [ 0  0  0  0  0 47  0  0  0  1]\n",
      " [ 0  1  0  0  0  0 51  0  0  0]\n",
      " [ 0  0  0  0  0  0  0 47  0  1]\n",
      " [ 0  0  0  0  0  1  0  0 47  0]\n",
      " [ 0  0  0  0  0  1  0  1  0 45]]\n"
     ]
    }
   ],
   "source": [
    "#Accuracy of the predicted values\n",
    "from sklearn.metrics import classification_report,confusion_matrix\n",
    "print(classification_report(y_test_class, y_pred_class))\n",
    "print(confusion_matrix(y_test_class, y_pred_class))"
   ]
  }
 ],
 "metadata": {
  "kernelspec": {
   "display_name": "Python 3 (ipykernel)",
   "language": "python",
   "name": "python3"
  },
  "language_info": {
   "codemirror_mode": {
    "name": "ipython",
    "version": 3
   },
   "file_extension": ".py",
   "mimetype": "text/x-python",
   "name": "python",
   "nbconvert_exporter": "python",
   "pygments_lexer": "ipython3",
   "version": "3.11.7"
  }
 },
 "nbformat": 4,
 "nbformat_minor": 5
}
