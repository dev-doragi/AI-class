{
 "cells": [
  {
   "cell_type": "markdown",
   "id": "28e6543b-3f93-4367-882e-52c3ef120edf",
   "metadata": {},
   "source": [
    "---\n",
    "model.fit(): 모델을 주어진 훈련 데이터로 학습시키는 메서드입니다.\n",
    "\n",
    "x=X_train: 입력 데이터로 사용할 훈련 데이터 (X_train)를 지정합니다.\n",
    "\n",
    "y=y_train: 출력 데이터(타깃)로 사용할 훈련 데이터의 레이블 (y_train)를 지정합니다.\n",
    "\n",
    "epochs=30: 전체 훈련 데이터셋을 몇 번 반복하여 학습할지를 나타내는 에포크(epoch) 수를 지정합니다.\n",
    "\n",
    "batch_size=32: 한 번의 에포크에서 사용할 배치(batch) 크기를 지정합니다. 배치는 모델이 한 번에 처리하는 데이터 샘플의 수를 나타냅니다.\n",
    "\n",
    "validation_data=(X_test, y_test): 검증 데이터셋으로 사용할 데이터 (X_test, y_test)를 지정합니다. 각 에포크가 끝날 때마다 검증 데이터셋을 사용하여 모델의 성능을 평가합니다.\n",
    "\n",
    "model.fit() 메서드는 학습된 모델의 히스토리를 model_history 변수에 저장합니다. 이 히스토리에는 각 에포크별로 손실 함수 값과 지정된 평가 지표(예: 정확도) 등의 정보가 포함됩니다."
   ]
  },
  {
   "cell_type": "markdown",
   "id": "a719aa6a-ef4d-44a4-903d-7c605fcd2ced",
   "metadata": {},
   "source": [
    "---\n",
    "### model.history\n",
    "`model_history`는 `model.fit()` 메서드를 통해 학습된 모델의 학습 과정을 기록한 객체입니다. 이 객체는 각 에포크(epoch)별로 학습 손실(loss)과 정확도(accuracy), 그리고 검증 손실과 검증 정확도를 저장합니다. 따라서 `model_history`를 분석하여 모델의 학습 진행 상황을 확인할 수 있습니다.\n",
    "\n",
    "`model.fit()` 메서드를 호출할 때 `validation_data` 매개변수를 통해 검증 데이터를 지정하였기 때문에, 각 에포크에서 학습 데이터와 검증 데이터에 대한 손실과 정확도가 기록됩니다.\n",
    "\n",
    "주로 `model_history` 객체에서 확인할 수 있는 정보는 다음과 같습니다:\n",
    "\n",
    "- **Loss (손실)**: 학습 데이터와 검증 데이터에 대한 손실 값의 변화 추이를 확인할 수 있습니다. 손실 값은 일반적으로 학습 과정에서 최소화되는 대상으로, 값이 감소할수록 모델의 성능이 향상되는 것을 의미합니다.\n",
    "\n",
    "- **Accuracy (정확도)**: 학습 데이터와 검증 데이터에 대한 정확도의 변화 추이를 확인할 수 있습니다. 정확도는 모델이 예측한 결과가 실제 타겟과 일치하는 비율을 나타냅니다.\n",
    "\n",
    "`model_history` 객체의 속성과 메서드를 사용하여 학습 과정을 시각화하고 분석할 수 있습니다. 일반적으로 `matplotlib` 라이브러리를 사용하여 학습 과정을 그래프로 표현하거나, 각 에포크에서의 손실과 정확도를 출력하여 모델의 성능을 평가합니다.\n",
    "\n",
    "아래는 `model_history` 객체에서 주로 사용되는 속성과 메서드입니다:\n",
    "\n",
    "- **`history` 속성**: `model_history.history`는 학습 과정에서 기록된 손실과 정확도를 담고 있는 딕셔너리입니다. 딕셔너리의 키는 `'loss'`, `'accuracy'`, `'val_loss'`, `'val_accuracy'` 등이 있습니다.\n",
    "\n",
    "- **`plot` 메서드**: `matplotlib`을 사용하여 학습 과정을 그래프로 시각화합니다. 예를 들어, `plt.plot(model_history.history['loss'])`와 같이 사용하여 학습 손실의 변화를 그래프로 표현할 수 있습니다.\n",
    "\n",
    "- **`evaluate` 메서드**: 학습이 완료된 모델을 평가할 때 사용합니다. 예를 들어, `model.evaluate(X_test, y_test)`와 같이 사용하여 테스트 데이터에 대한 손실과 정확도를 계산합니다.\n",
    "\n",
    "따라서 `model_history`를 분석하여 모델의 학습 과정을 이해하고, 모델의 성능을 평가할 수 있습니다. 학습 과정에서 손실이 감소하고 정확도가 증가하는지 확인하여 모델의 학습 상태를 파악하고 모델의 성능을 개선할 수 있는 방안을 모색할 수 있습니다."
   ]
  },
  {
   "cell_type": "markdown",
   "id": "e0af7963-7e95-4261-959e-6071a7a8d908",
   "metadata": {},
   "source": [
    "---\n",
    "### Confusion Matrix (혼동행렬)\n",
    "\n",
    "#### 정확도 (Accuracy) : 전체 샘플 중 올바르게 예측한 샘플의 비율\n",
    "\n",
    "Accuracy = TP + FN / TP + TN + FP + FN\n",
    "\n",
    "#### 정밀도 (Precision) :  Positive로 예측한 샘플 중 실제 Positive인 샘플의 비율\n",
    "\n",
    "Precision = TP / TP + FP\n",
    "\n",
    "#### 재현율 (Recall or Sensitivity) : 실제 Positive인 샘플 중 Positive로 올바르게 예측한 샘플의 비율\n",
    "\n",
    "Recall = TP / TP + FN\n",
    "\n",
    "#### F1-score: 정밀도와 재현율의 조화 평균으로, 모델의 종합적인 성능을 평가하는 지표, 데이터가 불균형할 때, 잘 동작하는지 평가지표가 된다.\n",
    "\n",
    "F1-score = 2 x (Precision * Recall / Precision + Recall)"
   ]
  }
 ],
 "metadata": {
  "kernelspec": {
   "display_name": "Python 3 (ipykernel)",
   "language": "python",
   "name": "python3"
  },
  "language_info": {
   "codemirror_mode": {
    "name": "ipython",
    "version": 3
   },
   "file_extension": ".py",
   "mimetype": "text/x-python",
   "name": "python",
   "nbconvert_exporter": "python",
   "pygments_lexer": "ipython3",
   "version": "3.11.7"
  }
 },
 "nbformat": 4,
 "nbformat_minor": 5
}
